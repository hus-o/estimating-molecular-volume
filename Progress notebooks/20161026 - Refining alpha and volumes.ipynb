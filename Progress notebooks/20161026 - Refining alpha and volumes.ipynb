{
 "cells": [
  {
   "cell_type": "markdown",
   "metadata": {},
   "source": [
    "### Import libraries and data"
   ]
  },
  {
   "cell_type": "code",
   "execution_count": null,
   "metadata": {},
   "outputs": [],
   "source": [
    "import pandas as pd\n",
    "import csv\n",
    "import re\n",
    "import numpy as np"
   ]
  },
  {
   "cell_type": "code",
   "execution_count": null,
   "metadata": {},
   "outputs": [],
   "source": [
    "vols = pd.read_csv(\"volumes.csv\")\n",
    "vols = vols.drop(\"Unnamed: 0\", axis=1)"
   ]
  },
  {
   "cell_type": "code",
   "execution_count": null,
   "metadata": {},
   "outputs": [],
   "source": [
    "temps = pd.read_csv(\"temperatures.csv\")\n",
    "temps = temps.drop(\"Unnamed: 0\", axis=1)"
   ]
  },
  {
   "cell_type": "code",
   "execution_count": null,
   "metadata": {},
   "outputs": [],
   "source": [
    "unitformula = pd.read_csv(\"scaledformulae.csv\")\n",
    "unitformula = unitformula.drop(\"Unnamed: 0\", axis=1)"
   ]
  },
  {
   "cell_type": "markdown",
   "metadata": {},
   "source": [
    "### Calculations"
   ]
  },
  {
   "cell_type": "code",
   "execution_count": null,
   "metadata": {},
   "outputs": [],
   "source": [
    "from sklearn import linear_model, svm\n",
    "regVols = linear_model.LinearRegression()\n",
    "regAlpha = linear_model.LinearRegression()"
   ]
  },
  {
   "cell_type": "code",
   "execution_count": null,
   "metadata": {},
   "outputs": [],
   "source": [
    "alpha = 0.00\n",
    "x2=pd.DataFrame()\n",
    "for step in range(1,2):\n",
    "    print step\n",
    "    regVols.fit(unitformula, vols.div(alpha*temp +1))\n",
    "    w = regVols.coef_\n",
    "    for line in zip(unitformula.columns.values, w[0]):\n",
    "        x2[line[0]] = unitformula[line[0]].apply(lambda x: x*line[1])\n",
    "    predictedvolume = x2.sum(axis=1)\n",
    "    regAlpha.fit(temps,(vols.div((predictedvolume)-1)))\n",
    "    alpha = refAlpha.coef_"
   ]
  },
  {
   "cell_type": "markdown",
   "metadata": {},
   "source": [
    "Here we see a clear improvement in the loop, initially this loop is set to 2 iterations just to see how it works.\n",
    "\n",
    "Firstly a model is fitted using the unit formula and volumes to predict volumes - the alpha is initially set to 0.\n",
    "This is based off the equation used by Dr Hofmann:\n",
    "                                            $$V = nṽ(1+alpha*T)$$\n",
    "As the alpha is 0 V=nṽ where the ṽ is the average element volume.\n",
    "\n",
    "Thereafter once an alpha is calculated the equation:\n",
    "                                        $$nṽ = V/(1+alpha*T)$$\n",
    "is used - this is the regVols model seen above."
   ]
  },
  {
   "cell_type": "markdown",
   "metadata": {},
   "source": [
    "Using this predicted molecular volumes are calculated, as seen before.\n",
    "Lastly a model is fit to predict the alpha values.\n",
    "Alpha is calculated using:\n",
    "    $$alpha*T = (V/(nṽ)) - 1$$\n",
    "This is the regAlpha model seen above."
   ]
  },
  {
   "cell_type": "markdown",
   "metadata": {},
   "source": [
    "### Below is code from the previous notebook"
   ]
  },
  {
   "cell_type": "code",
   "execution_count": null,
   "metadata": {},
   "outputs": [],
   "source": [
    "import numpy.ma as ma\n",
    "percentage = predictedvolume.values / vols.values\n",
    "percentage = percentage[(percentage >= 0.95) & (percentage <= 1.05)]"
   ]
  },
  {
   "cell_type": "code",
   "execution_count": null,
   "metadata": {},
   "outputs": [],
   "source": [
    "mx = ma.masked_array(percentage, mask = ((percentage < 0.95) | (percentage > 1.05)) )\n",
    "print mx"
   ]
  },
  {
   "cell_type": "code",
   "execution_count": null,
   "metadata": {},
   "outputs": [],
   "source": [
    "print np.array(predictedvolume)-np.array(vols)\n",
    "difvol = predictedvolume.values - vols.values\n",
    "print zip(unitformula.columns.values, difvol)\n",
    "print zip(unitformula.columns.values,difvol)"
   ]
  }
 ],
 "metadata": {
  "anaconda-cloud": {},
  "kernelspec": {
   "display_name": "Python (2.7)",
   "language": "python",
   "name": "python2.7"
  },
  "language_info": {
   "codemirror_mode": {
    "name": "ipython",
    "version": 2
   },
   "file_extension": ".py",
   "mimetype": "text/x-python",
   "name": "python",
   "nbconvert_exporter": "python",
   "pygments_lexer": "ipython2",
   "version": "2.7.16"
  }
 },
 "nbformat": 4,
 "nbformat_minor": 1
}
