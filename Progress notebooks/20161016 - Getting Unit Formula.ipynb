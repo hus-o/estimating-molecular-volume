{
 "cells": [
  {
   "cell_type": "markdown",
   "metadata": {},
   "source": [
    "### Importing neccessary libraries etc."
   ]
  },
  {
   "cell_type": "code",
   "execution_count": null,
   "metadata": {},
   "outputs": [],
   "source": [
    "import pandas as pd\n",
    "import re\n",
    "import numpy as np\n",
    "#from ccdc.io import EntryReader\n",
    "#from ccdc.io import CrystalReader\n",
    "#csd_entry_reader = EntryReader('CSD')\n",
    "#csd_crystal_reader = CrystalReader('CSD')"
   ]
  },
  {
   "cell_type": "markdown",
   "metadata": {},
   "source": [
    "#### Continuing to properly parse the molecular formula.\n",
    "(The code below is where I left off in the previous notebook.)"
   ]
  },
  {
   "cell_type": "code",
   "execution_count": null,
   "metadata": {},
   "outputs": [],
   "source": [
    "store = []\n",
    "i = 0\n",
    "for entry in csd_entry_reader:\n",
    "    store.append(((((entry.identifier, entry.formula, entry.crystal.cell_volume, entry.crystal.z_value, entry.crystal.z_prime)))))\n",
    "    #unitform = df['Molecular Formula'].multiply(df['Z'])\n",
    "    #store.append(unitform) <<< use after parsing formula\n",
    "    i += 1\n",
    "    if i == 10:\n",
    "        break\n",
    "headers = [\"Refcode\", \"Molecular Formula\", \"Cell volume\", \"Z\", \"Z prime\"]\n",
    "df = pd.DataFrame(data = store, columns = headers)\n",
    "df = df[df['Z'] > 0]\n",
    "#print df\n",
    "#df.to_csv(\"test2.csv\")\n",
    "\n",
    "allowedElements = {\"H\":0,\"He\":0,\"Li\":0,\"Be\":0,\"B\":0,\"C\":0,\"N\":0,\"O\":0,\"F\":0,\"Ne\":0,\n",
    "\"Na\":0,\"Mg\":0,\"Al\":0,\"Si\":0,\"P\":0,\"S\":0,\"Cl\":0,\"Ar\":0,\"K\":0,\"Ca\":0,\n",
    "\"Sc\":0,\"Ti\":0,\"V\":0,\"Cr\":0,\"Mn\":0,\"Fe\":0,\"Co\":0,\"Ni\":0,\"Cu\":0,\"Zn\":0,\n",
    "\"Ga\":0,\"Ge\":0,\"As\":0,\"Se\":0,\"Br\":0,\"Kr\":0,\"Rb\":0,\"Sr\":0,\"Y\":0,\"Zr\":0,\n",
    "\"Nb\":0,\"Mo\":0,\"Tc\":0,\"Ru\":0,\"Rh\":0,\"Pd\":0,\"Ag\":0,\"Cd\":0,\"In\":0,\"Sn\":0,\n",
    "\"Sb\":0,\"Te\":0,\"I\":0,\"Xe\":0,\"Cs\":0,\"Ba\":0,\"La\":0,\"Ce\":0,\"Pr\":0,\"Nd\":0,\n",
    "\"Pm\":0,\"Sm\":0,\"Eu\":0,\"Gd\":0,\"Tb\":0,\"Dy\":0,\"Ho\":0,\"Er\":0,\"Tm\":0,\"Yb\":0,\n",
    "\"Lu\":0,\"Hf\":0,\"Ta\":0,\"W\":0,\"Re\":0,\"Os\":0,\"Ir\":0,\"Pt\":0,\"Au\":0,\"Hg\":0,\n",
    "\"Tl\":0,\"Pb\":0,\"Bi\":0,\"Po\":0,\"At\":0,\"Rn\":0,\"Fr\":0,\"Ra\":0,\"Ac\":0,\"Th\":0,\n",
    "\"Pa\":0,\"U\":0,\"Np\":0,\"Pu\":0,\"Am\":0,\"Cm\":0,\"Bk\":0,\"Cf\":0,\"Es\":0,\"Fm\":0,\n",
    "\"Md\":0,\"No\":0,\"Lr\":0,\"Rf\":0,\"Db\":0,\"Sg\":0,\"Bh\":0,\"Hs\":0,\"Mt\":0}\n",
    "\n",
    "#fragments = df[\"Molecular Formula\"].apply(lambda x: pd.Series(x.split(\",\")))\n",
    "#print fragments\n",
    "\n",
    "molform = df['Molecular Formula'].to_string()\n",
    "print molform\n",
    "j = 0\n",
    "for elements in molform:\n",
    "    split = re.split(\"([a-z]+)([0-9]+)\", molform, re.I)\n",
    "    j+=1\n",
    "    if j == 10:\n",
    "        break\n",
    "print split"
   ]
  },
  {
   "cell_type": "code",
   "execution_count": null,
   "metadata": {},
   "outputs": [],
   "source": [
    "fragments = df[\"Molecular Formula\"].str.split(\",\").apply(pd.Series)\n",
    "fragments.columns = ('Fragment 1','Fragment 2','Fragment 3')\n",
    "pd.concat([df2,fragments], axis=1)\n"
   ]
  },
  {
   "cell_type": "markdown",
   "metadata": {},
   "source": [
    "For unknown reasons the concatination doesn't show when df is printed, but fragments show when printed solo."
   ]
  },
  {
   "cell_type": "code",
   "execution_count": null,
   "metadata": {},
   "outputs": [],
   "source": [
    "molform = pd.Series(df[\"Molecular Formula\"])\n",
    "for elements in molform:\n",
    "    elementSymbol = molform.str.split('[A-Z]')\n",
    "    elementNumber = molform.str.split('[0-9]') #<< this version prints all the numbers and symbols but grouped together\n",
    "\n",
    "\n",
    "print elementSymbol\n",
    "print elementnumber\n",
    "\n",
    "\n",
    "df['elementSymbol'] = df['Molecular Formula'].str.extract('([A-Z])', expand=True) #<<these\n",
    "df['elementNumber'] = df['Molecular Formula'].str.extract('(\\d)', expand=True) #<<two don't extract in the form I want, result shown below\n",
    "\n",
    "j = 0\n",
    "with open('test2.csv', 'r') as f:\n",
    "    reader = csv.reader(f, delimiter=',')\n",
    "    for row in reader:\n",
    "        molrow = row[2]\n",
    "        molparsed = re.findall(r'([A-Z][a-z]*)(\\d*)', molrow)\n",
    "        j+=1\n",
    "        if j==10:\n",
    "            break\n",
    "        print molparsed #works, was initially indented incorrectly.\n"
   ]
  },
  {
   "cell_type": "markdown",
   "metadata": {},
   "source": [
    "after some searching around this is the closest I've come yet, although they are seperated the integers are grouped together, as are the characters, need to find a way to make sure the symbol is grouped with its correspondent value.\n",
    "initially:\n",
    "<pre>\n",
    "df['elementSymbol'] = df['Molecular Formula'].str.extract('([A-Z])', expand=True)\n",
    "df['elementNumber'] = df['Molecular Formula'].str.extract('(\\d)', expand=True)\n",
    "</pre>\n",
    "was used however resulted in an incorrect output as such: \n",
    "```\n",
    "   |  Z Prime  |  elementSymbol| elementNumber |  \n",
    "---|-----------|---------------|---------------|               \n",
    "   |           |         C     |        1      |\n",
    "1  |   1.00    |         C     |        1      |\n",
    "2  |   1.00    |         C     |        1      |\n",
    "4  |   0.50    |         C     |        2      |\n",
    "5  |   1.00    |         C     |        5      |\n",
    "6  |   1.00    |         C     |        2      | \n",
    "7  |   0.25    |         C     |        8      | \n",
    "8  |   1.00    |         C     |        1      |\n",
    "9  |   1.00    |         C     |        8      |\n",
    "```\n",
    "therefore was replaced with \n",
    "<pre>\n",
    "\n",
    "molform = pd.Series(df[\"Molecular Formula\"])\n",
    "for elements in molform:\n",
    "    elementSymbol = molform.str.split('[A-Z]')\n",
    "    elementNumber = molform.str.split('[0-9]')\n",
    "\n",
    "</pre>\n",
    "which works better but still not what is neccessary.\n",
    "\n",
    "The final attempt where the csv file is read and parsed works well but needs to be adapted to not use a counter and file."
   ]
  },
  {
   "cell_type": "code",
   "execution_count": null,
   "metadata": {},
   "outputs": [],
   "source": [
    "def molparsed(row):\n",
    "    baseformula = {\"H\":0,\"He\":0,\"Li\":0,\"Be\":0,\"B\":0,\"C\":0,\"N\":0,\"O\":0,\"F\":0,\"Ne\":0,\n",
    "    \"Na\":0,\"Mg\":0,\"Al\":0,\"Si\":0,\"P\":0,\"S\":0,\"Cl\":0,\"Ar\":0,\"K\":0,\"Ca\":0,\n",
    "    \"Sc\":0,\"Ti\":0,\"V\":0,\"Cr\":0,\"Mn\":0,\"Fe\":0,\"Co\":0,\"Ni\":0,\"Cu\":0,\"Zn\":0,\n",
    "    \"Ga\":0,\"Ge\":0,\"As\":0,\"Se\":0,\"Br\":0,\"Kr\":0,\"Rb\":0,\"Sr\":0,\"Y\":0,\"Zr\":0,\n",
    "    \"Nb\":0,\"Mo\":0,\"Tc\":0,\"Ru\":0,\"Rh\":0,\"Pd\":0,\"Ag\":0,\"Cd\":0,\"In\":0,\"Sn\":0,\n",
    "    \"Sb\":0,\"Te\":0,\"I\":0,\"Xe\":0,\"Cs\":0,\"Ba\":0,\"La\":0,\"Ce\":0,\"Pr\":0,\"Nd\":0,\n",
    "    \"Pm\":0,\"Sm\":0,\"Eu\":0,\"Gd\":0,\"Tb\":0,\"Dy\":0,\"Ho\":0,\"Er\":0,\"Tm\":0,\"Yb\":0,\n",
    "    \"Lu\":0,\"Hf\":0,\"Ta\":0,\"W\":0,\"Re\":0,\"Os\":0,\"Ir\":0,\"Pt\":0,\"Au\":0,\"Hg\":0,\n",
    "    \"Tl\":0,\"Pb\":0,\"Bi\":0,\"Po\":0,\"At\":0,\"Rn\":0,\"Fr\":0,\"Ra\":0,\"Ac\":0,\"Th\":0,\n",
    "    \"Pa\":0,\"U\":0,\"Np\":0,\"Pu\":0,\"Am\":0,\"Cm\":0,\"Bk\":0,\"Cf\":0,\"Es\":0,\"Fm\":0,\n",
    "    \"Md\":0,\"No\":0,\"Lr\":0,\"Rf\":0,\"Db\":0,\"Sg\":0,\"Bh\":0,\"Hs\":0,\"Mt\":0}\n",
    "    formula = row[\"Molecular Formula\"]\n",
    "    Z = row[\"Z\"]\n",
    "    parsedform = re.findall(r'([A-Z][a-z]*)(\\d*)', formula)\n",
    "    for element in parsedform:\n",
    "        baseformula[element[0]] = float(element[1])*Z\n",
    "        #print element\n",
    "    return baseformula"
   ]
  },
  {
   "cell_type": "markdown",
   "metadata": {},
   "source": [
    "A function to multiply the element number by the Z value to give a scaled version for the unit formula. For example C2H6O2 where 2 formula units in a unit cell = C4H12O4.\n",
    "\n",
    "Below the function is applied to the dataframe."
   ]
  },
  {
   "cell_type": "code",
   "execution_count": null,
   "metadata": {},
   "outputs": [],
   "source": [
    "print df.apply(molparsed,axis=1)"
   ]
  },
  {
   "cell_type": "code",
   "execution_count": null,
   "metadata": {},
   "outputs": [],
   "source": [
    "print df"
   ]
  }
 ],
 "metadata": {
  "anaconda-cloud": {},
  "kernelspec": {
   "display_name": "Python (2.7)",
   "language": "python",
   "name": "python2.7"
  },
  "language_info": {
   "codemirror_mode": {
    "name": "ipython",
    "version": 2
   },
   "file_extension": ".py",
   "mimetype": "text/x-python",
   "name": "python",
   "nbconvert_exporter": "python",
   "pygments_lexer": "ipython2",
   "version": "2.7.16"
  }
 },
 "nbformat": 4,
 "nbformat_minor": 1
}
