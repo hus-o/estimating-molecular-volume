{
 "cells": [
  {
   "cell_type": "markdown",
   "metadata": {},
   "source": [
    "### Import libraries and data"
   ]
  },
  {
   "cell_type": "code",
   "execution_count": null,
   "metadata": {},
   "outputs": [],
   "source": [
    "import pandas as pd\n",
    "import csv\n",
    "import re\n",
    "import numpy as np"
   ]
  },
  {
   "cell_type": "code",
   "execution_count": null,
   "metadata": {},
   "outputs": [],
   "source": [
    "vols = pd.read_csv(\"volumes.csv\")\n",
    "vols = vols.drop(\"Unnamed: 0\", axis=1)"
   ]
  },
  {
   "cell_type": "code",
   "execution_count": null,
   "metadata": {},
   "outputs": [],
   "source": [
    "temps = pd.read_csv(\"temperatures.csv\")\n",
    "temps = temps.drop(\"Unnamed: 0\", axis=1)"
   ]
  },
  {
   "cell_type": "code",
   "execution_count": null,
   "metadata": {},
   "outputs": [],
   "source": [
    "unitformula = pd.read_csv(\"scaledformulae.csv\")\n",
    "unitformula = unitformula.drop(\"Unnamed: 0\", axis=1)"
   ]
  },
  {
   "cell_type": "markdown",
   "metadata": {},
   "source": [
    "### Setting models"
   ]
  },
  {
   "cell_type": "code",
   "execution_count": null,
   "metadata": {},
   "outputs": [],
   "source": [
    "from sklearn import linear_model, svm, kernel_ridge\n",
    "from scipy.optimize import nnls \n",
    "from sklearn.metrics import mean_squared_error\n",
    "regVols = linear_model.LinearRegression()\n",
    "regAlpha = linear_model.LinearRegression()\n",
    "#regVols = linear_model.ElasticNet(positive = True)"
   ]
  },
  {
   "cell_type": "markdown",
   "metadata": {},
   "source": [
    "### RMSD function"
   ]
  },
  {
   "cell_type": "code",
   "execution_count": null,
   "metadata": {},
   "outputs": [],
   "source": [
    "def getRMSD (y_true, y_pred):\n",
    "    return np.sqrt(mean_squared_error(y_true, y_pred))"
   ]
  },
  {
   "cell_type": "markdown",
   "metadata": {},
   "source": [
    "### Percentage function"
   ]
  },
  {
   "cell_type": "code",
   "execution_count": null,
   "metadata": {},
   "outputs": [],
   "source": [
    "def percCalc (row):\n",
    "    predictedvolume = row[\"sum\"]\n",
    "    vols = row[\"Volume\"]\n",
    "    percentage = predictedvolume / vols\n",
    "    if (percentage >=0.95) and (percentage <=1.05):\n",
    "        return 1\n",
    "    else:\n",
    "        return 0"
   ]
  },
  {
   "cell_type": "markdown",
   "metadata": {},
   "source": [
    "### Loop algorithm"
   ]
  },
  {
   "cell_type": "code",
   "execution_count": null,
   "metadata": {},
   "outputs": [],
   "source": [
    "alpha = 0.00\n",
    "elements = unitformula.columns.values\n",
    "unitformula[\"Keep\"] = 1\n",
    "weights = []\n",
    "alphas =[]\n",
    "for chunk in zip(unitformula.groupby(np.arange(len(unitformula)) // 10000),vols.groupby(np.arange(len(vols)) // 10000),temps.groupby(np.arange(len(temps)) // 10000)):\n",
    "    print \"Chunk: \", chunk[0][0]\n",
    "    prevalpha = 1\n",
    "    RMSD = 10\n",
    "    chunkformula = chunk[0][1].reset_index(drop=True)\n",
    "    chunkvol = chunk[1][1].reset_index(drop=True)\n",
    "    chunktemp = chunk[2][1].reset_index(drop=True)\n",
    "    keepidx = np.arange(len(chunkformula))\n",
    "    i = 0\n",
    "    while abs(prevalpha-alpha) > 0.00001 or (RMSD > 1) :\n",
    "        try:\n",
    "            print \"Iteration:\", i\n",
    "            #regVols.fit(chunkformula[chunkformula.Keep == 1], chunkvol.loc[keepidx].div(chunktemp.loc[keepidx].Temperature*alpha+1, axis=\"index\"))\n",
    "            if i > 0:\n",
    "                prevw = w#[0]\n",
    "                #print \"old w: \", prevw\n",
    "            #w = regVols.coef_[0]\n",
    "            w, rnorm = nnls(np.matrix(chunkformula[chunkformula.Keep == 1]),\n",
    "                            np.squeeze(np.array(chunkvol.iloc[keepidx].div(chunktemp.iloc[keepidx].Temperature*alpha+1, axis=\"index\"))))\n",
    "            if i > 0:\n",
    "                RMSD = getRMSD(prevw,w)#[0]\n",
    "                #print \"New w\", w\n",
    "                print \"RMSD: \", RMSD\n",
    "            x2=pd.DataFrame()\n",
    "            for line in zip(elements, w): #[0]\n",
    "                x2[line[0]] = chunk[0][1][line[0]].apply(lambda x: x*line[1])\n",
    "            x2[\"sum\"] = x2.sum(axis=1)\n",
    "            #if i>0:\n",
    "                #print x2[\"sum\"]\n",
    "            vol2 = chunkvol.iloc[keepidx].div(x2[\"sum\"].iloc[keepidx], axis=\"index\") - 1\n",
    "            #regAlpha.fit(chunktemp.loc[keepidx], vol2)\n",
    "            if i > 0:\n",
    "                prevalpha = alpha\n",
    "                print \"Previous Alpha: \", prevalpha\n",
    "            #alpha = regAlpha.coef_[0][0]\n",
    "            alpha, rnorm2 = nnls(np.matrix(chunktemp.iloc[keepidx]),np.squeeze(np.array(vol2)))\n",
    "            print \"Alpha: \", alpha\n",
    "            print \"deltaAlpha: \", abs(prevalpha-alpha)\n",
    "            #print \"dAlpha: \", abs(prevalpha - alpha)\n",
    "            chunkformula[\"Keep\"] = pd.concat([x2,vols], axis=1).apply(percCalc, axis=1)\n",
    "            keepidx = chunkformula.Keep[chunkformula.Keep == 1].index.tolist()\n",
    "            #print \"Element average volume (cubic angstroms)\", zip(elements,w[0])\n",
    "            if (len(keepidx) <= 1) or (i > 200):\n",
    "                print \"wasted ur time bro\"\n",
    "                break\n",
    "        except ValueError:\n",
    "            break\n",
    "        i =+ 1\n",
    "    weights.append(w)#[0])\n",
    "    alphas.append(alpha)"
   ]
  },
  {
   "cell_type": "markdown",
   "metadata": {},
   "source": [
    "This loop is similar to the previous one; however now the the modelling technique is NNLS; the linear regression has been commented out, just as a test to check how well the chunk loop worked with NNLS.\n",
    "\n",
    "Due to an error the volumes had to be squeezed due to having a array of shape length 2 (2D), rather than 1.\n",
    "This problem was also exhibited in the alpha calculation; where vol2 had to be squeezed to 1D."
   ]
  },
  {
   "cell_type": "markdown",
   "metadata": {},
   "source": [
    "### Misc."
   ]
  },
  {
   "cell_type": "code",
   "execution_count": null,
   "metadata": {},
   "outputs": [],
   "source": [
    "print np.where(np.isinf(vol2))"
   ]
  },
  {
   "cell_type": "markdown",
   "metadata": {},
   "source": [
    "Due to some problems, vol2 was searched for any infinite values and there positions."
   ]
  }
 ],
 "metadata": {
  "anaconda-cloud": {},
  "kernelspec": {
   "display_name": "Python (2.7)",
   "language": "python",
   "name": "python2.7"
  },
  "language_info": {
   "codemirror_mode": {
    "name": "ipython",
    "version": 2
   },
   "file_extension": ".py",
   "mimetype": "text/x-python",
   "name": "python",
   "nbconvert_exporter": "python",
   "pygments_lexer": "ipython2",
   "version": "2.7.16"
  }
 },
 "nbformat": 4,
 "nbformat_minor": 1
}
