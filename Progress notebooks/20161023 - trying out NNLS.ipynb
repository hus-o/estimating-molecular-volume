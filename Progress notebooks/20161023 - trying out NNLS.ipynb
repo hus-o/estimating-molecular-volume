{
 "cells": [
  {
   "cell_type": "markdown",
   "metadata": {},
   "source": [
    "### Import libraries etc."
   ]
  },
  {
   "cell_type": "code",
   "execution_count": null,
   "metadata": {},
   "outputs": [],
   "source": [
    "import pandas as pd\n",
    "import csv\n",
    "import re\n",
    "import numpy as np"
   ]
  },
  {
   "cell_type": "markdown",
   "metadata": {},
   "source": [
    "Most of what's below is from a previous notebook, the nnls attempt is near the bottom."
   ]
  },
  {
   "cell_type": "code",
   "execution_count": null,
   "metadata": {},
   "outputs": [],
   "source": [
    "df = pd.read_csv(\"CSD_output_formulae_50k.csv\")"
   ]
  },
  {
   "cell_type": "code",
   "execution_count": null,
   "metadata": {},
   "outputs": [],
   "source": [
    "def molparsed(row):\n",
    "    baseformula = {\"H\":0,\"He\":0,\"Li\":0,\"Be\":0,\"B\":0,\"C\":0,\"N\":0,\"O\":0,\"F\":0,\"Ne\":0,\n",
    "    \"Na\":0,\"Mg\":0,\"Al\":0,\"Si\":0,\"P\":0,\"S\":0,\"Cl\":0,\"Ar\":0,\"K\":0,\"Ca\":0,\n",
    "    \"Sc\":0,\"Ti\":0,\"V\":0,\"Cr\":0,\"Mn\":0,\"Fe\":0,\"Co\":0,\"Ni\":0,\"Cu\":0,\"Zn\":0,\n",
    "    \"Ga\":0,\"Ge\":0,\"As\":0,\"Se\":0,\"Br\":0,\"Kr\":0,\"Rb\":0,\"Sr\":0,\"Y\":0,\"Zr\":0,\n",
    "    \"Nb\":0,\"Mo\":0,\"Tc\":0,\"Ru\":0,\"Rh\":0,\"Pd\":0,\"Ag\":0,\"Cd\":0,\"In\":0,\"Sn\":0,\n",
    "    \"Sb\":0,\"Te\":0,\"I\":0,\"Xe\":0,\"Cs\":0,\"Ba\":0,\"La\":0,\"Ce\":0,\"Pr\":0,\"Nd\":0,\n",
    "    \"Pm\":0,\"Sm\":0,\"Eu\":0,\"Gd\":0,\"Tb\":0,\"Dy\":0,\"Ho\":0,\"Er\":0,\"Tm\":0,\"Yb\":0,\n",
    "    \"Lu\":0,\"Hf\":0,\"Ta\":0,\"W\":0,\"Re\":0,\"Os\":0,\"Ir\":0,\"Pt\":0,\"Au\":0,\"Hg\":0,\n",
    "    \"Tl\":0,\"Pb\":0,\"Bi\":0,\"Po\":0,\"At\":0,\"Rn\":0,\"Fr\":0,\"Ra\":0,\"Ac\":0,\"Th\":0,\n",
    "    \"Pa\":0,\"U\":0,\"Np\":0,\"Pu\":0,\"Am\":0,\"Cm\":0,\"Bk\":0,\"Cf\":0,\"Es\":0,\"Fm\":0,\n",
    "    \"Md\":0,\"No\":0,\"Lr\":0,\"Rf\":0,\"Db\":0,\"Sg\":0,\"Bh\":0,\"Hs\":0,\"Mt\":0}\n",
    "    formula = row[\"formula\"]\n",
    "    Z = row[\"Z\"]\n",
    "    if formula[-1] == \"n\":\n",
    "            return 0\n",
    "            \n",
    "    parsedform = re.findall(r'([A-Z][a-z]*)(\\d*)', formula)\n",
    "    for element in parsedform:\n",
    "        baseformula[element[0]] = float(element[1])*Z\n",
    "        #print element\n",
    "    return baseformula"
   ]
  },
  {
   "cell_type": "code",
   "execution_count": null,
   "metadata": {},
   "outputs": [],
   "source": [
    "df[\"UnitFormula\"] = df.apply(molparsed,axis=1)\n",
    "df = df[df.UnitFormula !=0]\n",
    "print df[\"UnitFormula\"]"
   ]
  },
  {
   "cell_type": "code",
   "execution_count": null,
   "metadata": {},
   "outputs": [],
   "source": [
    "X = []\n",
    "label = []\n",
    "i = 0\n",
    "for x in df[\"UnitFormula\"]:\n",
    "    temp = []\n",
    "    for key, value in x.iteritems():\n",
    "        temp.append(value)\n",
    "        if i == 0:\n",
    "            label.append(key)            \n",
    "    X.append(temp)\n",
    "    i+=1\n",
    "y = df[\"Volume\"]"
   ]
  },
  {
   "cell_type": "code",
   "execution_count": null,
   "metadata": {},
   "outputs": [],
   "source": [
    "#print X,label\n",
    "X = np.matrix(X) # changing X array to a numpy matrix\n",
    "y = np.array(y) # changing y dataframe column to numpy array\n",
    "print y"
   ]
  },
  {
   "cell_type": "markdown",
   "metadata": {},
   "source": [
    "As the nnls function works with arrays/matrices the inputs had to be converted."
   ]
  },
  {
   "cell_type": "code",
   "execution_count": null,
   "metadata": {},
   "outputs": [],
   "source": [
    "df50 = pd.DataFrame(data=X, columns=label)"
   ]
  },
  {
   "cell_type": "code",
   "execution_count": null,
   "metadata": {},
   "outputs": [],
   "source": [
    "from sklearn import linear_model, svm\n",
    "reg = linear_model.LinearRegression()\n",
    "reg.fit(X,y)\n",
    "for this in zip(label,reg.coef_):\n",
    "    print this"
   ]
  },
  {
   "cell_type": "code",
   "execution_count": null,
   "metadata": {},
   "outputs": [],
   "source": [
    "from scipy.optimize import nnls \n",
    "x, rnorm = nnls(X,y)\n",
    "print zip(label,x), rnorm"
   ]
  },
  {
   "cell_type": "markdown",
   "metadata": {
    "collapsed": true
   },
   "source": [
    "As the previous results (can be executed a couple cells above) were riddled with negative results non-negative least squares (nnls) was attempted and the results proved to be slightly better however there were still some extremely errenous results (>100), such as Zn (404.74) or Ca (337.29)"
   ]
  }
 ],
 "metadata": {
  "anaconda-cloud": {},
  "kernelspec": {
   "display_name": "Python (2.7)",
   "language": "python",
   "name": "python2.7"
  },
  "language_info": {
   "codemirror_mode": {
    "name": "ipython",
    "version": 2
   },
   "file_extension": ".py",
   "mimetype": "text/x-python",
   "name": "python",
   "nbconvert_exporter": "python",
   "pygments_lexer": "ipython2",
   "version": "2.7.16"
  }
 },
 "nbformat": 4,
 "nbformat_minor": 1
}
