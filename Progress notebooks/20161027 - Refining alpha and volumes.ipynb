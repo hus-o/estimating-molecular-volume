{
 "cells": [
  {
   "cell_type": "markdown",
   "metadata": {},
   "source": [
    "### Import libraries and data"
   ]
  },
  {
   "cell_type": "code",
   "execution_count": null,
   "metadata": {},
   "outputs": [],
   "source": [
    "import pandas as pd\n",
    "import csv\n",
    "import re\n",
    "import numpy as np"
   ]
  },
  {
   "cell_type": "code",
   "execution_count": null,
   "metadata": {},
   "outputs": [],
   "source": [
    "vols = pd.read_csv(\"volumes.csv\")\n",
    "vols = vols.drop(\"Unnamed: 0\", axis=1)"
   ]
  },
  {
   "cell_type": "code",
   "execution_count": null,
   "metadata": {},
   "outputs": [],
   "source": [
    "temps = pd.read_csv(\"temperatures.csv\")\n",
    "temps = temps.drop(\"Unnamed: 0\", axis=1)"
   ]
  },
  {
   "cell_type": "code",
   "execution_count": null,
   "metadata": {},
   "outputs": [],
   "source": [
    "unitformula = pd.read_csv(\"scaledformulae.csv\")\n",
    "unitformula = unitformula.drop(\"Unnamed: 0\", axis=1)"
   ]
  },
  {
   "cell_type": "markdown",
   "metadata": {},
   "source": [
    "### Calculations"
   ]
  },
  {
   "cell_type": "code",
   "execution_count": null,
   "metadata": {},
   "outputs": [],
   "source": [
    "from sklearn import linear_model, svm\n",
    "regVols = linear_model.LinearRegression()\n",
    "regAlpha = linear_model.LinearRegression()"
   ]
  },
  {
   "cell_type": "code",
   "execution_count": null,
   "metadata": {},
   "outputs": [],
   "source": [
    "percentage = predictedvolume.div(vols.Volume)\n",
    "keep = np.where(np.logical_and(percentage>=0.95, percentage<=1.05))"
   ]
  },
  {
   "cell_type": "markdown",
   "metadata": {},
   "source": [
    "Initially an attempt was made to find the index of entries where the threshold for the 5% percentage filter was met, these entries were to be kept.\n",
    "It is clear that the predictedvolume is being called before being declared, but the fact that this piece of code was immediately improved on means it's not being used and does not matter"
   ]
  },
  {
   "cell_type": "code",
   "execution_count": null,
   "metadata": {},
   "outputs": [],
   "source": [
    "def percentageCalc(predictedvolume,vols):\n",
    "    percentage = predictedvolume.div(vols.Volume)\n",
    "    for value in np.nditer(percentage):\n",
    "        if (value >=0.95) and (value <=1.05):\n",
    "            return 1\n",
    "        else:\n",
    "            return 0"
   ]
  },
  {
   "cell_type": "markdown",
   "metadata": {},
   "source": [
    "A function was made to allow for the filtration of predicted volumes which weren't within a certain threshold, in this case 5% above or below.\n",
    "The code shows a simple division initially and then a loop where if the conditions are met - e.g. threshold is met\n",
    "the loop returns the value 1, which will later be used to keep this entries. all else is returned as 0 and omitted."
   ]
  },
  {
   "cell_type": "markdown",
   "metadata": {},
   "source": [
    "### Below are calculations/code previously seen"
   ]
  },
  {
   "cell_type": "code",
   "execution_count": null,
   "metadata": {},
   "outputs": [],
   "source": [
    "alpha = 0.00\n",
    "x2=pd.DataFrame()\n",
    "for step in range(1,2):\n",
    "    print step\n",
    "    regVols.fit(unitformula, vols[\"Volume\"].div((temps[\"Temperature\"]*alpha) +1))\n",
    "    w = regVols.coef_\n",
    "    for line in zip(unitformula.columns.values, w):\n",
    "        x2[line[0]] = unitformula[line[0]].apply(lambda x: x*line[1])\n",
    "    predictedvolume = x2.sum(axis=1)\n",
    "    regAlpha.fit(temps,vols.div(predictedvolume.ix[0],axis=\"columns\")-1)\n",
    "    alpha = regAlpha.coef_\n",
    "print zip(unitformula.columns.values,w)\n",
    "print alpha"
   ]
  }
 ],
 "metadata": {
  "anaconda-cloud": {},
  "kernelspec": {
   "display_name": "Python (2.7)",
   "language": "python",
   "name": "python2.7"
  },
  "language_info": {
   "codemirror_mode": {
    "name": "ipython",
    "version": 2
   },
   "file_extension": ".py",
   "mimetype": "text/x-python",
   "name": "python",
   "nbconvert_exporter": "python",
   "pygments_lexer": "ipython2",
   "version": "2.7.16"
  }
 },
 "nbformat": 4,
 "nbformat_minor": 1
}
