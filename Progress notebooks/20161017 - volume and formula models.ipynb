{
 "cells": [
  {
   "cell_type": "markdown",
   "metadata": {},
   "source": [
    "## Import libraries etc."
   ]
  },
  {
   "cell_type": "code",
   "execution_count": null,
   "metadata": {},
   "outputs": [],
   "source": [
    "import pandas as pd\n",
    "import csv\n",
    "import re\n",
    "import numpy as np\n",
    "from ccdc.io import EntryReader\n",
    "from ccdc.io import CrystalReader\n",
    "csd_entry_reader = EntryReader('CSD')\n",
    "csd_crystal_reader = CrystalReader('CSD')"
   ]
  },
  {
   "cell_type": "markdown",
   "metadata": {},
   "source": [
    "Again, the three cells below are form the previous notebook, making a dataframe and parsing it."
   ]
  },
  {
   "cell_type": "code",
   "execution_count": null,
   "metadata": {},
   "outputs": [],
   "source": [
    "store = []\n",
    "i = 0\n",
    "for entry in csd_entry_reader:\n",
    "    store.append(((((entry.identifier, entry.formula, entry.crystal.cell_volume, entry.crystal.z_value, entry.crystal.z_prime)))))\n",
    "    i += 1\n",
    "    if i == 1000:\n",
    "        break\n",
    "headers = [\"Refcode\", \"Molecular Formula\", \"Cell volume\", \"Z\", \"Z prime\"]\n",
    "\n",
    "df = pd.DataFrame(data = store, columns = headers)\n",
    "df = df[df['Z'] > 0]\n"
   ]
  },
  {
   "cell_type": "code",
   "execution_count": null,
   "metadata": {},
   "outputs": [],
   "source": [
    "def molparsed(row):\n",
    "    baseformula = {\"H\":0,\"He\":0,\"Li\":0,\"Be\":0,\"B\":0,\"C\":0,\"N\":0,\"O\":0,\"F\":0,\"Ne\":0,\n",
    "    \"Na\":0,\"Mg\":0,\"Al\":0,\"Si\":0,\"P\":0,\"S\":0,\"Cl\":0,\"Ar\":0,\"K\":0,\"Ca\":0,\n",
    "    \"Sc\":0,\"Ti\":0,\"V\":0,\"Cr\":0,\"Mn\":0,\"Fe\":0,\"Co\":0,\"Ni\":0,\"Cu\":0,\"Zn\":0,\n",
    "    \"Ga\":0,\"Ge\":0,\"As\":0,\"Se\":0,\"Br\":0,\"Kr\":0,\"Rb\":0,\"Sr\":0,\"Y\":0,\"Zr\":0,\n",
    "    \"Nb\":0,\"Mo\":0,\"Tc\":0,\"Ru\":0,\"Rh\":0,\"Pd\":0,\"Ag\":0,\"Cd\":0,\"In\":0,\"Sn\":0,\n",
    "    \"Sb\":0,\"Te\":0,\"I\":0,\"Xe\":0,\"Cs\":0,\"Ba\":0,\"La\":0,\"Ce\":0,\"Pr\":0,\"Nd\":0,\n",
    "    \"Pm\":0,\"Sm\":0,\"Eu\":0,\"Gd\":0,\"Tb\":0,\"Dy\":0,\"Ho\":0,\"Er\":0,\"Tm\":0,\"Yb\":0,\n",
    "    \"Lu\":0,\"Hf\":0,\"Ta\":0,\"W\":0,\"Re\":0,\"Os\":0,\"Ir\":0,\"Pt\":0,\"Au\":0,\"Hg\":0,\n",
    "    \"Tl\":0,\"Pb\":0,\"Bi\":0,\"Po\":0,\"At\":0,\"Rn\":0,\"Fr\":0,\"Ra\":0,\"Ac\":0,\"Th\":0,\n",
    "    \"Pa\":0,\"U\":0,\"Np\":0,\"Pu\":0,\"Am\":0,\"Cm\":0,\"Bk\":0,\"Cf\":0,\"Es\":0,\"Fm\":0,\n",
    "    \"Md\":0,\"No\":0,\"Lr\":0,\"Rf\":0,\"Db\":0,\"Sg\":0,\"Bh\":0,\"Hs\":0,\"Mt\":0}\n",
    "    formula = row[\"Molecular Formula\"]\n",
    "    Z = row[\"Z\"]\n",
    "    if formula[-1] == \"n\":\n",
    "            return 0\n",
    "    parsedform = re.findall(r'([A-Z][a-z]*)(\\d*)', formula)\n",
    "    for element in parsedform:\n",
    "        baseformula[element[0]] = float(element[1])*Z\n",
    "        #print element\n",
    "    return baseformula"
   ]
  },
  {
   "cell_type": "code",
   "execution_count": null,
   "metadata": {},
   "outputs": [],
   "source": [
    "df[\"UnitFormula\"] = df.apply(molparsed,axis=1)\n",
    "df = df[df.UnitFormula !=0]\n",
    "print df[\"UnitFormula\"]"
   ]
  },
  {
   "cell_type": "markdown",
   "metadata": {},
   "source": [
    "There is a new condition here, where only the outputs for UnitFormula which aren't 0 are included in the dataframe."
   ]
  },
  {
   "cell_type": "code",
   "execution_count": null,
   "metadata": {},
   "outputs": [],
   "source": [
    "X = []\n",
    "label = []\n",
    "i = 0\n",
    "for x in df[\"UnitFormula\"]:\n",
    "    temp = []\n",
    "    for element in x:\n",
    "        temp.append(x[element])\n",
    "        if i == 0:\n",
    "            label.append(element)            \n",
    "    X.append(temp)\n",
    "    i+=1\n",
    "y = df[\"Cell volume\"]"
   ]
  },
  {
   "cell_type": "markdown",
   "metadata": {},
   "source": [
    "Poorly made loop, collates the values from each row and appends the element label to it. This is a rough attempt to give the unitformula but the labeling is incorrect and the zero values should be omitted."
   ]
  },
  {
   "cell_type": "code",
   "execution_count": null,
   "metadata": {},
   "outputs": [],
   "source": [
    "print X, label"
   ]
  },
  {
   "cell_type": "markdown",
   "metadata": {},
   "source": [
    "###### Below are examples of me trying to import and execute different models, just to get used to it."
   ]
  },
  {
   "cell_type": "code",
   "execution_count": null,
   "metadata": {},
   "outputs": [],
   "source": [
    "from sklearn import linear_model, svm\n",
    "reg = linear_model.LinearRegression()\n",
    "reg.fit(X,y)\n",
    "reg.coef_"
   ]
  },
  {
   "cell_type": "markdown",
   "metadata": {},
   "source": [
    "Simple ordinary least squares (OLS) linear regression.\n",
    "http://scikit-learn.org/stable/modules/generated/sklearn.linear_model.LinearRegression.html"
   ]
  },
  {
   "cell_type": "code",
   "execution_count": null,
   "metadata": {},
   "outputs": [],
   "source": [
    "regridge = linear_model.Ridge (alpha = 1)\n",
    "regridge.fit (X,y)\n",
    "regridge.coef_"
   ]
  },
  {
   "cell_type": "markdown",
   "metadata": {},
   "source": [
    "The ridge regression is a altered version of the OLS linear regression, where an alpha parameter is used to regularize the data.\n",
    "http://scikit-learn.org/stable/modules/generated/sklearn.linear_model.Ridge.html#sklearn.linear_model.Ridge"
   ]
  },
  {
   "cell_type": "code",
   "execution_count": null,
   "metadata": {},
   "outputs": [],
   "source": [
    "clf = svm.SVR(\"linear\")\n",
    "clf.fit(X, y)\n",
    "#clf.predict(X)\n",
    "#clf.coef_\n",
    "clf.score(X, y)"
   ]
  },
  {
   "cell_type": "code",
   "execution_count": null,
   "metadata": {},
   "outputs": [],
   "source": [
    "clf1 = svm.SVR(\"rbf\")\n",
    "clf1.fit(X, y)\n",
    "#clf1.predict(X)\n",
    "#clf1.coef_\n",
    "clf1.score(X, y)"
   ]
  },
  {
   "cell_type": "markdown",
   "metadata": {},
   "source": [
    "The two above are Support Vector Regressions (SVR) using two different kernel types.\n",
    "http://scikit-learn.org/stable/modules/generated/sklearn.svm.SVR.html#sklearn.svm.SVR"
   ]
  },
  {
   "cell_type": "code",
   "execution_count": null,
   "metadata": {},
   "outputs": [],
   "source": [
    "from sklearn.ensemble import RandomForestClassifier\n",
    "clf2 = RandomForestClassifier(n_estimators=10)\n",
    "clf2 = clf2.fit(X, Y)"
   ]
  },
  {
   "cell_type": "code",
   "execution_count": null,
   "metadata": {},
   "outputs": [],
   "source": [
    "from sklearn.ensemble import RandomForestRegressor\n",
    "clf3 = RandomForestRegressor(n_estimators=50)\n",
    "clf3.fit(X, y)"
   ]
  },
  {
   "cell_type": "markdown",
   "metadata": {},
   "source": [
    "Here an attempt is made at using the random forest methods; the classifier is unnecessary for this type of analysis and was falsely imported\n",
    "http://scikit-learn.org/stable/modules/generated/sklearn.ensemble.RandomForestRegressor.html#sklearn.ensemble.RandomForestRegressor"
   ]
  }
 ],
 "metadata": {
  "anaconda-cloud": {},
  "kernelspec": {
   "display_name": "Python (2.7)",
   "language": "python",
   "name": "python2.7"
  },
  "language_info": {
   "codemirror_mode": {
    "name": "ipython",
    "version": 2
   },
   "file_extension": ".py",
   "mimetype": "text/x-python",
   "name": "python",
   "nbconvert_exporter": "python",
   "pygments_lexer": "ipython2",
   "version": "2.7.16"
  }
 },
 "nbformat": 4,
 "nbformat_minor": 1
}
