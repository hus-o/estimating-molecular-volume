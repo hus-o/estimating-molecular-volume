{
 "cells": [
  {
   "cell_type": "markdown",
   "metadata": {},
   "source": [
    "### Import libraries and data"
   ]
  },
  {
   "cell_type": "code",
   "execution_count": null,
   "metadata": {},
   "outputs": [],
   "source": [
    "import pandas as pd\n",
    "import csv\n",
    "import re\n",
    "import numpy as np\n",
    "from scipy.optimize import nnls"
   ]
  },
  {
   "cell_type": "code",
   "execution_count": null,
   "metadata": {},
   "outputs": [],
   "source": [
    "vols = pd.read_csv(\"volumes.csv\")\n",
    "vols = vols.drop(\"Unnamed: 0\", axis=1)"
   ]
  },
  {
   "cell_type": "code",
   "execution_count": null,
   "metadata": {},
   "outputs": [],
   "source": [
    "temps = pd.read_csv(\"temperatures.csv\")\n",
    "temps = temps.drop(\"Unnamed: 0\", axis=1)"
   ]
  },
  {
   "cell_type": "code",
   "execution_count": null,
   "metadata": {},
   "outputs": [],
   "source": [
    "unitformula = pd.read_csv(\"scaledformulae.csv\")\n",
    "unitformula = unitformula.drop(\"Unnamed: 0\", axis=1)"
   ]
  },
  {
   "cell_type": "markdown",
   "metadata": {},
   "source": [
    "### Calculations"
   ]
  },
  {
   "cell_type": "code",
   "execution_count": null,
   "metadata": {},
   "outputs": [],
   "source": [
    "from sklearn import linear_model, svm\n",
    "regVols = linear_model.Ridge(alpha=100)\n",
    "regAlpha = linear_model.Ridge(alpha=100)"
   ]
  },
  {
   "cell_type": "code",
   "execution_count": null,
   "metadata": {},
   "outputs": [],
   "source": [
    "def percentageCalc(predictedvolume,vols):\n",
    "    percentage = predictedvolume.div(vols.Volume)\n",
    "    for value in np.nditer(percentage):\n",
    "        if (value >=0.95) and (value <=1.05):\n",
    "            return 1\n",
    "        else:\n",
    "            return 0"
   ]
  },
  {
   "cell_type": "code",
   "execution_count": null,
   "metadata": {},
   "outputs": [],
   "source": [
    "alpha = 0.00\n",
    "x2=pd.DataFrame()\n",
    "for step in range(1,50):\n",
    "    print step\n",
    "    regVols.fit(unitformula, vols.div(temps.Temperature*alpha+1, axis=\"index\"))\n",
    "    w = regVols.coef_[0]\n",
    "    for line in zip(unitformula.columns.values, w):\n",
    "        x2[line[0]] = unitformula[line[0]].apply(lambda x: x*line[1])\n",
    "    x2[\"sum\"] = x2.sum(axis=1)\n",
    "    vol2 = vols.div(x2[\"sum\"], axis=\"index\") - 1\n",
    "    regAlpha.fit(temps, vol2)\n",
    "    alpha = regAlpha.coef_[0][0]\n",
    "    unitformula[\"Keep\"] = x2.apply(percCalc, args=(vols), axis=1)\n",
    "    print \"Element average volume (cubic angstroms)\", zip(unitformula.columns.values,w)\n",
    "    print \"Alpha Value: \", alpha"
   ]
  },
  {
   "cell_type": "markdown",
   "metadata": {},
   "source": [
    "Here we see that there is a new line of code; \n",
    "<pre>\n",
    "unitformula[\"Keep\"] = x2.apply(percCalc, args=(vols), axis=1)\n",
    "</pre>\n",
    "This is basically creating a new column where the entries are either decided to be kept or omitted for later iterations, by applying the percentage calculation function. This is an early test of it and the function is not being applied correctly."
   ]
  },
  {
   "cell_type": "code",
   "execution_count": null,
   "metadata": {},
   "outputs": [],
   "source": [
    "std =[]\n",
    "std.append(w.std()/np.sqrt(len(w)))\n",
    "for value in std:\n",
    "    print value"
   ]
  },
  {
   "cell_type": "markdown",
   "metadata": {},
   "source": [
    "A simple calculation of the standard deviation of the average element volumes"
   ]
  }
 ],
 "metadata": {
  "anaconda-cloud": {},
  "kernelspec": {
   "display_name": "Python (2.7)",
   "language": "python",
   "name": "python2.7"
  },
  "language_info": {
   "codemirror_mode": {
    "name": "ipython",
    "version": 2
   },
   "file_extension": ".py",
   "mimetype": "text/x-python",
   "name": "python",
   "nbconvert_exporter": "python",
   "pygments_lexer": "ipython2",
   "version": "2.7.16"
  }
 },
 "nbformat": 4,
 "nbformat_minor": 1
}
