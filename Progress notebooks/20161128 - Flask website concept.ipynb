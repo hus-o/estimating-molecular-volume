{
 "cells": [
  {
   "cell_type": "code",
   "execution_count": null,
   "metadata": {
    "collapsed": true
   },
   "outputs": [],
   "source": [
    "from flask import Flask\n",
    "from flask_sqlalchemy import SQLAlchemy\n",
    "\n",
    "app = Flask(__name__)\n",
    "app.config['SQLALCHEMY_DATABASE_URI'] = 'sqlite:////C:\\Users\\Huseyin\\Desktop\\BSc Project\\sqlite'\n",
    "\n",
    "db = SQLAlchemy(app)\n",
    "class Information(db.Model):\n",
    "    element = db.Column(\"Element\", db.String, unique = True)\n",
    "    volume = db.Column(\"Volume\", db.Integer, primary_key = True)\n",
    "\n",
    "@app.route(\"/\")\n",
    "def index():\n",
    "    return \"Hello World!\"\n",
    "\n",
    "if __name__ == \"__main__\":\n",
    "    app.run()"
   ]
  },
  {
   "cell_type": "markdown",
   "metadata": {
    "collapsed": true
   },
   "source": [
    "This is just an attempt at getting to grips with the Flask framework, the idea was to have a SQLite database to store the model data in, but this proved to be difficult and different approaches were considered.\n",
    "\n",
    "Note: iPython sometimes fails to run flask app properly, the files are provided under the site folder and can be compiled using sublime text."
   ]
  }
 ],
 "metadata": {
  "anaconda-cloud": {},
  "kernelspec": {
   "display_name": "Python (2.7)",
   "language": "python",
   "name": "python2.7"
  },
  "language_info": {
   "codemirror_mode": {
    "name": "ipython",
    "version": 2
   },
   "file_extension": ".py",
   "mimetype": "text/x-python",
   "name": "python",
   "nbconvert_exporter": "python",
   "pygments_lexer": "ipython2",
   "version": "2.7.16"
  }
 },
 "nbformat": 4,
 "nbformat_minor": 1
}
