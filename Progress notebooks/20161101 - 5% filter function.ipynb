{
 "cells": [
  {
   "cell_type": "markdown",
   "metadata": {
    "colab_type": "text",
    "id": "-A_zFAUChUbf"
   },
   "source": [
    "### Import libraries and data"
   ]
  },
  {
   "cell_type": "code",
   "execution_count": 0,
   "metadata": {
    "colab": {},
    "colab_type": "code",
    "id": "8Prvl8KWhUbj"
   },
   "outputs": [],
   "source": [
    "import pandas as pd\n",
    "import csv\n",
    "import re\n",
    "import numpy as np"
   ]
  },
  {
   "cell_type": "code",
   "execution_count": 0,
   "metadata": {
    "colab": {},
    "colab_type": "code",
    "id": "u8pBPyW5hUbp"
   },
   "outputs": [],
   "source": [
    "vols = pd.read_csv(\"volumes.csv\")\n",
    "vols = vols.drop(\"Unnamed: 0\", axis=1)"
   ]
  },
  {
   "cell_type": "code",
   "execution_count": 0,
   "metadata": {
    "colab": {},
    "colab_type": "code",
    "id": "z9Xm_JYyhUbs"
   },
   "outputs": [],
   "source": [
    "temps = pd.read_csv(\"temperatures.csv\")\n",
    "temps = temps.drop(\"Unnamed: 0\", axis=1)"
   ]
  },
  {
   "cell_type": "code",
   "execution_count": 0,
   "metadata": {
    "colab": {},
    "colab_type": "code",
    "id": "aVQBy7MRhUbu"
   },
   "outputs": [],
   "source": [
    "unitformula = pd.read_csv(\"scaledformulae.csv\")\n",
    "unitformula = unitformula.drop(\"Unnamed: 0\", axis=1)"
   ]
  },
  {
   "cell_type": "markdown",
   "metadata": {
    "colab_type": "text",
    "id": "uabNL5gNhUbx"
   },
   "source": [
    "### Calculations"
   ]
  },
  {
   "cell_type": "code",
   "execution_count": 0,
   "metadata": {
    "colab": {},
    "colab_type": "code",
    "id": "cIfIdS5ghUby"
   },
   "outputs": [],
   "source": [
    "from sklearn import linear_model, svm\n",
    "regVols = linear_model.LinearRegression()\n",
    "regAlpha = linear_model.LinearRegression()"
   ]
  },
  {
   "cell_type": "code",
   "execution_count": 0,
   "metadata": {
    "colab": {},
    "colab_type": "code",
    "id": "byItVGNEhUb4"
   },
   "outputs": [],
   "source": [
    "alpha = 0.00\n",
    "x2=pd.DataFrame()\n",
    "for step in range(1,50):\n",
    "    print step\n",
    "    regVols.fit(unitformula, vols.div(temps.Temperature*alpha+1, axis=\"index\"))\n",
    "    w = regVols.coef_\n",
    "    for line in zip(unitformula.columns.values, w[0]):\n",
    "        x2[line[0]] = unitformula[line[0]].apply(lambda x: x*line[1])\n",
    "    x2[\"sum\"] = x2.sum(axis=1)\n",
    "    vol2 = vols.div(x2[\"sum\"], axis=\"index\") - 1\n",
    "    regAlpha.fit(temps, vol2)\n",
    "    alpha = regAlpha.coef_[0][0]\n",
    "    #unitformula[\"Keep\"] = x2.apply(percCalc, args=(vols), axis=1)\n",
    "    #print \"Element average volume (cubic angstroms)\", zip(unitformula.columns.values,w[0])\n",
    "    print \"Alpha Value: \", alpha"
   ]
  },
  {
   "cell_type": "code",
   "execution_count": 0,
   "metadata": {
    "colab": {},
    "colab_type": "code",
    "id": "jV4ldislhUb6"
   },
   "outputs": [],
   "source": [
    "def percCalc (row):\n",
    "    predictedvolume = row[\"sum\"]\n",
    "    vols = row[\"Volume\"]\n",
    "    percentage = predictedvolume / vols\n",
    "    if (percentage >=0.95) and (percentage <=1.05):\n",
    "        return 1\n",
    "    else:\n",
    "        return 0\n",
    "\n",
    "unitformula[\"Keep\"] = pd.concat([x2,vols], axis=1).apply(percCalc, axis=1)\n",
    "print unitformula[\"Keep\"].sum()"
   ]
  },
  {
   "cell_type": "markdown",
   "metadata": {
    "colab_type": "text",
    "id": "1gynYOTohUb9"
   },
   "source": [
    "Here are attempts at improving the percentage function; now the predictedvolume and actual volumes are defined by the row they are contained in , in the dataframe and the only item passed are the rows.\n",
    "\n",
    "At the bottom we can see that the predicted volumes and actual volumes are concatinated (joined) by an axis, and to this resultant dataframe the percentage function is applied; the results are passed to a new column in the unitformula dataframe called \"KEEP\".\n",
    "\n",
    "This piece of code is here rather than before the loop because this was just a test to get it working, rather than a finished version.\n"
   ]
  }
 ],
 "metadata": {
  "anaconda-cloud": {},
  "colab": {
   "name": "5 perc filter function 01.11.16.ipynb",
   "provenance": []
  },
  "kernelspec": {
   "display_name": "Python (2.7)",
   "language": "python",
   "name": "python2.7"
  },
  "language_info": {
   "codemirror_mode": {
    "name": "ipython",
    "version": 2
   },
   "file_extension": ".py",
   "mimetype": "text/x-python",
   "name": "python",
   "nbconvert_exporter": "python",
   "pygments_lexer": "ipython2",
   "version": "2.7.16"
  }
 },
 "nbformat": 4,
 "nbformat_minor": 1
}
