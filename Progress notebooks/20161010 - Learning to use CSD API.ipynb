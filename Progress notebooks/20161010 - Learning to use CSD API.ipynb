{
 "cells": [
  {
   "cell_type": "markdown",
   "metadata": {
    "colab_type": "text",
    "id": "87x-JFhfeTjc"
   },
   "source": [
    "### Importing Libraries"
   ]
  },
  {
   "cell_type": "code",
   "execution_count": null,
   "metadata": {
    "colab": {
     "base_uri": "https://localhost:8080/",
     "height": 367
    },
    "colab_type": "code",
    "executionInfo": {
     "elapsed": 1548,
     "status": "error",
     "timestamp": 1575908662421,
     "user": {
      "displayName": "huskotv",
      "photoUrl": "",
      "userId": "16929669664317162081"
     },
     "user_tz": 0
    },
    "id": "Gm4gEKnReTjj",
    "outputId": "13f9002b-5eca-4d15-fecf-448819af3cd5"
   },
   "outputs": [],
   "source": [
    "from ccdc import io\n",
    "import pandas as pd\n",
    "csd_reader = io.EntryReader('CSD')\n",
    "entry_abebuf = csd_reader.entry('ABEBUF')\n",
    "cryst_abebuf = csd_reader.crystal('ABEBUF')\n",
    "mol_abebuf = csd_reader.molecule('ABEBUF')\n",
    "\n",
    "print cryst_abebuf.z_value\n",
    "print cryst_abebuf.z_prime"
   ]
  },
  {
   "cell_type": "markdown",
   "metadata": {
    "colab_type": "text",
    "id": "QmrdjHBaeTju"
   },
   "source": [
    "The cell above shows attempts at retrieving data such as the crysallographic Z value & Z' value of a specific molecule by it's reference code.\n",
    "Note: You will need to install the CCDC library and pandas if you wish to run the code."
   ]
  },
  {
   "cell_type": "code",
   "execution_count": null,
   "metadata": {
    "colab": {},
    "colab_type": "code",
    "id": "C16g8fmreTjw"
   },
   "outputs": [],
   "source": [
    "import pandas as pd\n",
    "from ccdc.io import EntryReader\n",
    "from ccdc.io import CrystalReader\n",
    "csd_entry_reader = EntryReader('CSD')\n",
    "csd_crystal_reader = CrystalReader('CSD')\n",
    "#for entry in csd_entry_reader:\n",
    "    #print(entry.identifier)\n",
    "for crystal in csd_crystal_reader:\n",
    "    print crystal.z_value"
   ]
  },
  {
   "cell_type": "markdown",
   "metadata": {
    "colab_type": "text",
    "id": "mZdmcQX6eTj4"
   },
   "source": [
    "This code (above) is an attempt as looping throughout the database and retrieving each reference code & Z value. Due to the database being very large it was commented out to prevent a crash."
   ]
  },
  {
   "cell_type": "code",
   "execution_count": null,
   "metadata": {
    "colab": {},
    "colab_type": "code",
    "id": "23oMWrJzeTj6"
   },
   "outputs": [],
   "source": [
    "import numpy as np\n",
    "import pandas as pd\n",
    "from ccdc.io import EntryReader\n",
    "from ccdc.io import CrystalReader\n",
    "csd_entry_reader = EntryReader('CSD')\n",
    "csd_crystal_reader = CrystalReader('CSD')\n",
    "columns = ['Refcode','Z value', 'Z prime value', 'volume']\n",
    "index = np.arange(500)\n",
    "df = pd.DataFrame(columns = columns, index = index)\n",
    "df.append({'Refcode': csd_entry_reader.entry.identifier})"
   ]
  },
  {
   "cell_type": "markdown",
   "metadata": {
    "colab_type": "text",
    "id": "cRiGrnwceTkA"
   },
   "source": [
    "Was trying out a different method of appending data but this method didn't seem appropriate."
   ]
  },
  {
   "cell_type": "code",
   "execution_count": null,
   "metadata": {
    "colab": {},
    "colab_type": "code",
    "id": "oLYUEchleTkC"
   },
   "outputs": [],
   "source": [
    "import numpy as np\n",
    "import pandas as pd\n",
    "import csv\n",
    "from ccdc.io import EntryReader\n",
    "from ccdc.io import CrystalReader\n",
    "csd_entry_reader = EntryReader('CSD')\n",
    "csd_crystal_reader = CrystalReader('CSD')\n",
    "zstore = []\n",
    "refstore = []\n",
    "#i = 0\n",
    "#j = 0\n",
    "for crystal in csd_crystal_reader:\n",
    "    zstore.append(crystal.z_value)\n",
    "    #i += 1\n",
    "    #if i == 10:\n",
    "        #break\n",
    "for entry in csd_entry_reader:\n",
    "    refstore.append(entry.identifier)\n",
    "    #j += 1\n",
    "    #if j == 10:\n",
    "        #break\n",
    "with open('test.csv','w') as csvfile:\n",
    "    writer = csv.writer(csvfile, delimiter=',')\n",
    "    data = [['Refcode','Z value'],\n",
    "            #[refstore, zstore]]\n",
    "    writer.writerows(data)\n",
    "csvfile.close()"
   ]
  },
  {
   "cell_type": "markdown",
   "metadata": {
    "colab_type": "text",
    "id": "s5GmyeG2eTkK"
   },
   "source": [
    "Code that has been commented out above was implemented after working out an easier method (in another file), just to check if adding counter to display 10 items would get the code to work - it does. So I'm assuming the fact the code never outputted anything was because of the sheer size of data. Also this code isn't that good as the data stored in the arrays which are then sent to csv are not split in rows, rather they are all in one excel cell. So I was close to figuring it out but needed a bit of help."
   ]
  },
  {
   "cell_type": "markdown",
   "metadata": {
    "colab_type": "raw",
    "collapsed": true,
    "id": "WBfAZqhqeTkM"
   },
   "source": [
    "import numpy as np\n",
    "import pandas as pd\n",
    "from ccdc.io import EntryReader\n",
    "from ccdc.io import CrystalReader\n",
    "csd_entry_reader = EntryReader('CSD')\n",
    "csd_crystal_reader = CrystalReader('CSD')\n",
    "zstore = np.array([])\n",
    "for crystal in csd_crystal_reader:\n",
    "    np.append(crystal.z_value)\n",
    "np.savetxt(\"test.csv\", zstore, delimiter = \",\")"
   ]
  },
  {
   "cell_type": "markdown",
   "metadata": {
    "colab_type": "text",
    "id": "0QXHYBx7eTkO"
   },
   "source": [
    "multiple methods keep returning nothing, just makes an empty csv file."
   ]
  },
  {
   "cell_type": "code",
   "execution_count": null,
   "metadata": {
    "colab": {},
    "colab_type": "code",
    "id": "CE1EebX2eTkP"
   },
   "outputs": [],
   "source": [
    "import csv\n",
    "with open('testing.csv','w') as csvfile:\n",
    "    writer = csv.writer(csvfile, delimiter='',')\n",
    "    data = [['Refcode','Z value'],\n",
    "            ['10', '0'],\n",
    "            ['30','34'],\n",
    "            ['20','99'],\n",
    "            ['64','87']]\n",
    "    writer.writerows(data)\n",
    "csvfile.close()"
   ]
  },
  {
   "cell_type": "markdown",
   "metadata": {
    "colab_type": "text",
    "collapsed": true,
    "id": "hHVG_-0SeTkU"
   },
   "source": [
    "When I self input the values it outputs a csv file with the data, if I try to replace the data with an array (where the csd data is stored) the code doesn't output anything."
   ]
  }
 ],
 "metadata": {
  "anaconda-cloud": {},
  "colab": {
   "name": "Getting to grips with CSD 10.10.2016.ipynb",
   "provenance": []
  },
  "kernelspec": {
   "display_name": "Python (2.7)",
   "language": "python",
   "name": "python2.7"
  },
  "language_info": {
   "codemirror_mode": {
    "name": "ipython",
    "version": 2
   },
   "file_extension": ".py",
   "mimetype": "text/x-python",
   "name": "python",
   "nbconvert_exporter": "python",
   "pygments_lexer": "ipython2",
   "version": "2.7.16"
  }
 },
 "nbformat": 4,
 "nbformat_minor": 1
}
