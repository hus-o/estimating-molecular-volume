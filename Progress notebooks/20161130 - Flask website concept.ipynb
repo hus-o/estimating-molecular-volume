{
 "cells": [
  {
   "cell_type": "markdown",
   "metadata": {},
   "source": [
    "### Flask website app"
   ]
  },
  {
   "cell_type": "code",
   "execution_count": null,
   "metadata": {},
   "outputs": [],
   "source": [
    "from flask import Flask, render_template, request\n",
    "from flask_sqlalchemy import SQLAlchemy\n",
    "from wtforms import *\n",
    "import re\n",
    "app = Flask(__name__)\n",
    "@app.route(\"/\", methods=[\"GET\",\"POST\"])\n",
    "def index():\n",
    "    return render_template(\"index.html\")\n",
    "@app.route(\"/results\", methods=[\"POST\"])\n",
    "def results():\n",
    "   \tdata = request.form[\"formula\"]\n",
    "   \timport re\n",
    "\timport numpy as np\n",
    "\tvoleach = []\n",
    "\tvols = {\"H\": 5.08,\"Li\": 22.6,\"Be\": 36,\"B\": 13.24,\"C\": 13.87,\"N\": 11.8,\n",
    "\t\"O\": 11.39,\"F\": 11.17,\"Na\": 26,\"Mg\": 36,\"Al\": 39.6,\"Si\": 37.3,\"P\": 29.5,\n",
    "\t\"S\": 25.2,\"Cl\": 25.8,\"K\": 36,\"Ca\": 45,\"Sc\": 42,\"Ti\": 27.3,\"V\": 24,\"Cr\": 28.1,\n",
    "\t\"Mn\": 31.9,\"Fe\": 30.4,\"Co\": 29.4,\"Ni\": 26,\"Cu\": 26.9,\"Zn\": 39,\"Ga\": 37.8,\"Ge\": 41.6,\"As\": 36.4,\n",
    "\t\"Se\": 30.3,\"Br\": 32.7,\"Rb\": 42,\"Sr\": 47,\"Y\": 44,\"Zr\": 27,\n",
    "\t\"Nb\": 37,\"Mo\": 38,\"Tc\": 38,\"Ru\": 37.3,\"Rh\": 31.2,\"Pd\": 35,\"Ag\": 35,\"Cd\": 51,\"In\": 55,\"Sn\": 52.8,\n",
    "\t\"Sb\": 48,\"Te\": 46.7,\"I\": 46.2,\"Xe\": 45,\"Cs\": 46,\"Ba\": 66,\"La\": 58,\"Ce\": 54,\"Pr\": 57,\"Nd\": 50,\"Sm\": 50, \n",
    "\t\"Eu\": 53,\"Gd\": 56,\"Tb\": 45,\"Dy\": 50,\"Ho\": 42,\"Er\": 54,\"Tm\": 49,\"Yb\": 59}\n",
    "\tparsedform = re.findall(r'([A-Z][a-z]*)(\\d*)', data)\n",
    "\tfor element in parsedform:\n",
    "\t\tvoleach.append(vols[element[0]] * float(element[1]))\n",
    "\treturn \"Approximately\", sum(voleach), \"cubic angstoms\"\n",
    "\n",
    "if __name__ == \"__main__\":\n",
    "    app.run()"
   ]
  },
  {
   "cell_type": "markdown",
   "metadata": {},
   "source": [
    "Here is the code below incorporated into the app but this may not work, the final version can be run using sublime text."
   ]
  },
  {
   "cell_type": "markdown",
   "metadata": {},
   "source": [
    "### Ideas to be incorporated"
   ]
  },
  {
   "cell_type": "code",
   "execution_count": 9,
   "metadata": {},
   "outputs": [
    {
     "name": "stdout",
     "output_type": "stream",
     "text": [
      "We do not have data for X omitting this the answer is:\n",
      "Approximately 179.14 cubic angstoms\n"
     ]
    }
   ],
   "source": [
    "import re\n",
    "import numpy as np\n",
    "data = \"C2H5Rb3\"\n",
    "voleach = []\n",
    "vols = {\"H\": 5.08,\"Li\": 22.6,\"Be\": 36,\"B\": 13.24,\"C\": 13.87,\"N\": 11.8,\n",
    "\"O\": 11.39,\"F\": 11.17,\"Na\": 26,\"Mg\": 36,\"Al\": 39.6,\"Si\": 37.3,\"P\": 29.5,\n",
    "\"S\": 25.2,\"Cl\": 25.8,\"K\": 36,\"Ca\": 45,\"Sc\": 42,\"Ti\": 27.3,\"V\": 24,\"Cr\": 28.1,\n",
    "\"Mn\": 31.9,\"Fe\": 30.4,\"Co\": 29.4,\"Ni\": 26,\"Cu\": 26.9,\"Zn\": 39,\"Ga\": 37.8,\"Ge\": 41.6,\"As\": 36.4,\n",
    "\"Se\": 30.3,\"Br\": 32.7,\"Rb\": 42,\"Sr\": 47,\"Y\": 44,\"Zr\": 27,\n",
    "\"Nb\": 37,\"Mo\": 38,\"Tc\": 38,\"Ru\": 37.3,\"Rh\": 31.2,\"Pd\": 35,\"Ag\": 35,\"Cd\": 51,\"In\": 55,\"Sn\": 52.8,\n",
    "\"Sb\": 48,\"Te\": 46.7,\"I\": 46.2,\"Xe\": 45,\"Cs\": 46,\"Ba\": 66,\"La\": 58,\"Ce\": 54,\"Pr\": 57,\"Nd\": 50,\"Sm\": 50, \n",
    "\"Eu\": 53,\"Gd\": 56,\"Tb\": 45,\"Dy\": 50,\"Ho\": 42,\"Er\": 54,\"Tm\": 49,\"Yb\": 59}\n",
    "parsedform = re.findall(r'([A-Z][a-z]*)(\\d*)', data)\n",
    "for element in parsedform:\n",
    "    if element[0] in vols:\n",
    "        voleach.append(vols[element[0]] * float(element[1]))\n",
    "    else:\n",
    "        print \"We do not have data for\", element[0], \"omitting this the answer is:\"\n",
    "print \"Approximately\", sum(voleach), \"cubic angstoms\""
   ]
  },
  {
   "cell_type": "markdown",
   "metadata": {},
   "source": [
    "Before being incorporated into the flask app ideas were attempted individually, here is an attempt at getting a user input, parsing and providing a prediction.\n",
    "\n",
    "Modified existing loops to work with user inputs, returns total volume, if user inputs an invalid character this is ommited from\n",
    "calculation."
   ]
  },
  {
   "cell_type": "markdown",
   "metadata": {},
   "source": [
    "For some reason this bit of code works here seperately however once part of the flask app it causes a ValueError.\n",
    "Will look into it."
   ]
  }
 ],
 "metadata": {
  "anaconda-cloud": {},
  "kernelspec": {
   "display_name": "Python (2.7)",
   "language": "python",
   "name": "python2.7"
  },
  "language_info": {
   "codemirror_mode": {
    "name": "ipython",
    "version": 2
   },
   "file_extension": ".py",
   "mimetype": "text/x-python",
   "name": "python",
   "nbconvert_exporter": "python",
   "pygments_lexer": "ipython2",
   "version": "2.7.16"
  }
 },
 "nbformat": 4,
 "nbformat_minor": 1
}
