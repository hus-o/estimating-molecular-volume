{
 "cells": [
  {
   "cell_type": "markdown",
   "metadata": {},
   "source": [
    "### Import libraries and data"
   ]
  },
  {
   "cell_type": "code",
   "execution_count": null,
   "metadata": {},
   "outputs": [],
   "source": [
    "import pandas as pd\n",
    "import csv\n",
    "import re\n",
    "import numpy as np"
   ]
  },
  {
   "cell_type": "code",
   "execution_count": null,
   "metadata": {},
   "outputs": [],
   "source": [
    "vols = pd.read_csv(\"volumes.csv\")\n",
    "vols = vols.drop(\"Unnamed: 0\", axis=1)"
   ]
  },
  {
   "cell_type": "code",
   "execution_count": null,
   "metadata": {},
   "outputs": [],
   "source": [
    "temps = pd.read_csv(\"temperatures.csv\")\n",
    "temps = temps.drop(\"Unnamed: 0\", axis=1)"
   ]
  },
  {
   "cell_type": "code",
   "execution_count": null,
   "metadata": {},
   "outputs": [],
   "source": [
    "unitformula = pd.read_csv(\"scaledformulae.csv\")\n",
    "unitformula = unitformula.drop(\"Unnamed: 0\", axis=1)"
   ]
  },
  {
   "cell_type": "markdown",
   "metadata": {},
   "source": [
    "### Setting models"
   ]
  },
  {
   "cell_type": "code",
   "execution_count": null,
   "metadata": {},
   "outputs": [],
   "source": [
    "from sklearn import linear_model, svm, kernel_ridge\n",
    "from sklearn.metrics import mean_squared_error\n",
    "regVols = linear_model.LinearRegression()\n",
    "regAlpha = linear_model.LinearRegression()\n",
    "#regVols = linear_model.ElasticNet(positive = True)"
   ]
  },
  {
   "cell_type": "markdown",
   "metadata": {},
   "source": [
    "### Root Mean Squared function"
   ]
  },
  {
   "cell_type": "code",
   "execution_count": null,
   "metadata": {},
   "outputs": [],
   "source": [
    "def getRMSD (y_true, y_pred):\n",
    "    return np.sqrt(mean_squared_error(y_true, y_pred))\n",
    "\n",
    "#w1 = [(3),(5),(10),(1)]\n",
    "#w2 = [(2),(4),(6),(8)]\n",
    "#getRMSD(w1,w2)"
   ]
  },
  {
   "cell_type": "markdown",
   "metadata": {},
   "source": [
    "A function to calculate the RMSD was made; this was simple to construct as numpy had a function to calculate the mean square error.\n",
    "This was then square rooted.\n",
    "\n",
    "The aim was to use it to check how different a set of average volumes was compared to the estimations from the previous iteration, when this difference was of suitable value the loop would be stopped.\n",
    "\n",
    "The areas which are commented out were used to test the function."
   ]
  },
  {
   "cell_type": "markdown",
   "metadata": {},
   "source": [
    "### Percentage function"
   ]
  },
  {
   "cell_type": "code",
   "execution_count": null,
   "metadata": {},
   "outputs": [],
   "source": [
    "def percCalc (row):\n",
    "    predictedvolume = row[\"sum\"]\n",
    "    vols = row[\"Volume\"]\n",
    "    percentage = predictedvolume / vols\n",
    "    if (percentage >=0.95) and (percentage <=1.05):\n",
    "        return 1\n",
    "    else:\n",
    "        return 0"
   ]
  },
  {
   "cell_type": "code",
   "execution_count": null,
   "metadata": {},
   "outputs": [],
   "source": [
    "#for chunk in np.array_split(unitformula, 10000):\n",
    "#    print chunk\n",
    "#for numb, chunk in unitformula.groupby(np.arange(len(unitformula)) // 10000):\n",
    "#    print numb, chunk"
   ]
  },
  {
   "cell_type": "markdown",
   "metadata": {},
   "source": [
    "This cell which is commented out was an early simple attempt at splitting the data into chunks"
   ]
  },
  {
   "cell_type": "markdown",
   "metadata": {},
   "source": [
    "### Loop algorithm"
   ]
  },
  {
   "cell_type": "code",
   "execution_count": null,
   "metadata": {},
   "outputs": [],
   "source": [
    "alpha = 0.00\n",
    "elements = unitformula.columns.values\n",
    "unitformula[\"Keep\"] = 1\n",
    "weights = []\n",
    "alphas =[]\n",
    "for chunk in zip(unitformula.groupby(np.arange(len(unitformula)) // 10000),vols.groupby(np.arange(len(vols)) // 10000),temps.groupby(np.arange(len(temps)) // 10000)):\n",
    "    print \"Chunk: \", chunk[0][0]\n",
    "    prevalpha = 1\n",
    "    RMSD = 6\n",
    "    chunkformula = chunk[0][1]\n",
    "    chunkvol = chunk[1][1]\n",
    "    chunktemp = chunk[2][1]\n",
    "    keepidx = chunkformula.index.tolist()\n",
    "    i = 0\n",
    "    while abs(prevalpha-alpha) > 0.00001 and (RMSD > 5) :\n",
    "        print \"Iteration:\", i\n",
    "        regVols.fit(chunkformula[chunkformula.Keep == 1], chunkvol.loc[keepidx].div(chunktemp.loc[keepidx].Temperature*alpha+1, axis=\"index\"))\n",
    "        if i > 0:\n",
    "            prevw = w[0]\n",
    "            #print \"old w: \", prevw\n",
    "        w = regVols.coef_\n",
    "        if i > 0:\n",
    "            RMSD = getRMSD(prevw,w[0])\n",
    "            #print \"New w\", w[0]\n",
    "            print \"RMSD: \", RMSD\n",
    "        x2=pd.DataFrame()\n",
    "        for line in zip(elements, w[0]):\n",
    "            x2[line[0]] = chunk[0][1][line[0]].apply(lambda x: x*line[1])\n",
    "        x2[\"sum\"] = x2.sum(axis=1)\n",
    "        vol2 = chunkvol.loc[keepidx].div(x2[\"sum\"].loc[keepidx], axis=\"index\") - 1\n",
    "        regAlpha.fit(chunktemp.loc[keepidx], vol2)\n",
    "        if i > 0:\n",
    "            prevalpha = alpha\n",
    "            print \"Previous Alpha: \", prevalpha\n",
    "        alpha = regAlpha.coef_[0][0]\n",
    "        print \"Alpha: \", alpha\n",
    "        print \"deltaAlpha: \", abs(prevalpha-alpha)\n",
    "        #print \"dAlpha: \", abs(prevalpha - alpha)\n",
    "        chunkformula[\"Keep\"] = pd.concat([x2,vols], axis=1).apply(percCalc, axis=1)\n",
    "        keepidx = chunkformula.Keep[chunkformula.Keep == 1].index.tolist()\n",
    "        #print \"Element average volume (cubic angstroms)\", zip(elements,w[0])\n",
    "        i +=1\n",
    "        if (len(keepidx) <= 1) or (i > 200):\n",
    "            print \"Failure\"\n",
    "            break\n",
    "    weights.append(w[0])\n",
    "    alphas.append(alpha)"
   ]
  },
  {
   "cell_type": "markdown",
   "metadata": {},
   "source": [
    "This is similar to the previous loop; the new addition is that the loop now has another condition to be fulfilled; this is that the RMSD between the current average volumes and previous ones is less than 5.\n",
    "To allow this to work if statements were added to the loop so that after the first iteration the RMSD and difference in alphas could be calculated.\n",
    "\n",
    "One one occasion the mean alpha value was -0.00341222810177 which was still a poor result, even with the RMSD condition\n",
    "\n",
    "Running with smaller chunk size seems to yield better results, but it wasn't tried till completion."
   ]
  },
  {
   "cell_type": "markdown",
   "metadata": {},
   "source": [
    "### Misc. - printing items"
   ]
  },
  {
   "cell_type": "code",
   "execution_count": null,
   "metadata": {},
   "outputs": [],
   "source": [
    "print alphas\n",
    "print np.mean(alphas)"
   ]
  },
  {
   "cell_type": "markdown",
   "metadata": {},
   "source": [
    "Calculating the mean value of alpha"
   ]
  },
  {
   "cell_type": "code",
   "execution_count": null,
   "metadata": {},
   "outputs": [],
   "source": [
    "print zip(elements,np.mean(weights, axis=1))"
   ]
  },
  {
   "cell_type": "markdown",
   "metadata": {},
   "source": [
    "Outputting the average element volumes, over multiple iterations."
   ]
  },
  {
   "cell_type": "code",
   "execution_count": null,
   "metadata": {},
   "outputs": [],
   "source": []
  },
  {
   "cell_type": "code",
   "execution_count": null,
   "metadata": {},
   "outputs": [],
   "source": []
  }
 ],
 "metadata": {
  "anaconda-cloud": {},
  "kernelspec": {
   "display_name": "Python (2.7)",
   "language": "python",
   "name": "python2.7"
  },
  "language_info": {
   "codemirror_mode": {
    "name": "ipython",
    "version": 2
   },
   "file_extension": ".py",
   "mimetype": "text/x-python",
   "name": "python",
   "nbconvert_exporter": "python",
   "pygments_lexer": "ipython2",
   "version": "2.7.16"
  }
 },
 "nbformat": 4,
 "nbformat_minor": 1
}
