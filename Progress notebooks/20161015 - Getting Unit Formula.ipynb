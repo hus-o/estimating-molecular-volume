{
 "cells": [
  {
   "cell_type": "markdown",
   "metadata": {},
   "source": [
    "### Importing Libraries"
   ]
  },
  {
   "cell_type": "code",
   "execution_count": null,
   "metadata": {},
   "outputs": [],
   "source": [
    "import pandas as pd\n",
    "import re\n",
    "import numpy as np\n",
    "#from ccdc.io import EntryReader\n",
    "#from ccdc.io import CrystalReader"
   ]
  },
  {
   "cell_type": "markdown",
   "metadata": {},
   "source": [
    "#### Trying out methods of parsing the molecular formula"
   ]
  },
  {
   "cell_type": "code",
   "execution_count": null,
   "metadata": {},
   "outputs": [],
   "source": [
    "csd_entry_reader = EntryReader('CSD')\n",
    "csd_crystal_reader = CrystalReader('CSD')\n",
    "store = []\n",
    "i = 0\n",
    "for entry in csd_entry_reader:\n",
    "    store.append(((((entry.identifier, entry.formula, entry.crystal.cell_volume, entry.crystal.z_value, entry.crystal.z_prime)))))\n",
    "    #unitform = df['Molecular Formula'].multiply(df['Z'])\n",
    "    #store.append(unitform) <<< use after parsing formula\n",
    "    i += 1\n",
    "    if i == 10:\n",
    "        break\n",
    "headers = [\"Refcode\", \"Molecular Formula\", \"Cell volume\", \"Z\", \"Z prime\"]\n",
    "df = pd.DataFrame(data = store, columns = headers)\n",
    "df = df[df['Z'] > 0]\n",
    "print df\n",
    "#df.to_csv(\"test2.csv\")\n",
    "\n",
    "allowedElements = {\"H\":0,\"He\":0,\"Li\":0,\"Be\":0,\"B\":0,\"C\":0,\"N\":0,\"O\":0,\"F\":0,\"Ne\":0,\n",
    "\"Na\":0,\"Mg\":0,\"Al\":0,\"Si\":0,\"P\":0,\"S\":0,\"Cl\":0,\"Ar\":0,\"K\":0,\"Ca\":0,\n",
    "\"Sc\":0,\"Ti\":0,\"V\":0,\"Cr\":0,\"Mn\":0,\"Fe\":0,\"Co\":0,\"Ni\":0,\"Cu\":0,\"Zn\":0,\n",
    "\"Ga\":0,\"Ge\":0,\"As\":0,\"Se\":0,\"Br\":0,\"Kr\":0,\"Rb\":0,\"Sr\":0,\"Y\":0,\"Zr\":0,\n",
    "\"Nb\":0,\"Mo\":0,\"Tc\":0,\"Ru\":0,\"Rh\":0,\"Pd\":0,\"Ag\":0,\"Cd\":0,\"In\":0,\"Sn\":0,\n",
    "\"Sb\":0,\"Te\":0,\"I\":0,\"Xe\":0,\"Cs\":0,\"Ba\":0,\"La\":0,\"Ce\":0,\"Pr\":0,\"Nd\":0,\n",
    "\"Pm\":0,\"Sm\":0,\"Eu\":0,\"Gd\":0,\"Tb\":0,\"Dy\":0,\"Ho\":0,\"Er\":0,\"Tm\":0,\"Yb\":0,\n",
    "\"Lu\":0,\"Hf\":0,\"Ta\":0,\"W\":0,\"Re\":0,\"Os\":0,\"Ir\":0,\"Pt\":0,\"Au\":0,\"Hg\":0,\n",
    "\"Tl\":0,\"Pb\":0,\"Bi\":0,\"Po\":0,\"At\":0,\"Rn\":0,\"Fr\":0,\"Ra\":0,\"Ac\":0,\"Th\":0,\n",
    "\"Pa\":0,\"U\":0,\"Np\":0,\"Pu\":0,\"Am\":0,\"Cm\":0,\"Bk\":0,\"Cf\":0,\"Es\":0,\"Fm\":0,\n",
    "\"Md\":0,\"No\":0,\"Lr\":0,\"Rf\":0,\"Db\":0,\"Sg\":0,\"Bh\":0,\"Hs\":0,\"Mt\":0}\n",
    "\n"
   ]
  },
  {
   "cell_type": "markdown",
   "metadata": {},
   "source": [
    "A DataFrame was made containing 10 entries of the Refcode, Molecular Formula, Cell Volume, Z value and Z' value.\n",
    "Note that any entry where the Z value is 0 is omitted."
   ]
  },
  {
   "cell_type": "code",
   "execution_count": null,
   "metadata": {},
   "outputs": [],
   "source": [
    "df2 = pd.DataFrame(data=data,columns=header)\n",
    "fragments = df2[\"Mol\"].apply(lambda x: pd.Series(x.split(\",\")))\n",
    "print fragments"
   ]
  },
  {
   "cell_type": "markdown",
   "metadata": {},
   "source": [
    "This method was used incorrectly, the split method here is instructed to split the data when a comma is seen; the intended use was the split the data by a comma."
   ]
  },
  {
   "cell_type": "code",
   "execution_count": null,
   "metadata": {},
   "outputs": [],
   "source": [
    "formula = df[\"Molecular Formula\"]\n",
    "for elements in formula:\n",
    "    match = re.match(r\"([a-z]+)([0-9]+)\", formula, re.I)\n",
    "    if match:\n",
    "        items = match.groups()\n",
    "        \n",
    "print items"
   ]
  },
  {
   "cell_type": "markdown",
   "metadata": {},
   "source": [
    "An attempt was made to iterate through the DataFrame column \"Molecular Formulas\" and split strings from numbers\n",
    "however using re only allows for string or buffers as the error suggests when executed (cannot be executed without 32bit anaconda).\n",
    "Note: re.I allows the code to ignore the case of the letters."
   ]
  },
  {
   "cell_type": "code",
   "execution_count": null,
   "metadata": {},
   "outputs": [],
   "source": [
    "molform = df['Molecular Formula'].to_string()\n",
    "print molform\n",
    "j = 0\n",
    "for elements in molform:\n",
    "    split = re.split(\"([a-z]+)([0-9]+)\", molform, re.I)\n",
    "    j+=1\n",
    "    if j == 10:\n",
    "        break\n",
    "print split"
   ]
  },
  {
   "cell_type": "markdown",
   "metadata": {},
   "source": [
    "Tried again this time with a bit of variation, trying to change input to string using the \".to_string()\" method, however it returned useless information."
   ]
  }
 ],
 "metadata": {
  "anaconda-cloud": {},
  "kernelspec": {
   "display_name": "Python (2.7)",
   "language": "python",
   "name": "python2.7"
  },
  "language_info": {
   "codemirror_mode": {
    "name": "ipython",
    "version": 2
   },
   "file_extension": ".py",
   "mimetype": "text/x-python",
   "name": "python",
   "nbconvert_exporter": "python",
   "pygments_lexer": "ipython2",
   "version": "2.7.16"
  }
 },
 "nbformat": 4,
 "nbformat_minor": 1
}
