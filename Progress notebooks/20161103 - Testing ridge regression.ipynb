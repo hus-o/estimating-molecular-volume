{
 "cells": [
  {
   "cell_type": "markdown",
   "metadata": {},
   "source": [
    "### Import libraries and data"
   ]
  },
  {
   "cell_type": "code",
   "execution_count": 1,
   "metadata": {
    "collapsed": true
   },
   "outputs": [],
   "source": [
    "import pandas as pd\n",
    "import csv\n",
    "import re\n",
    "import numpy as np"
   ]
  },
  {
   "cell_type": "code",
   "execution_count": 2,
   "metadata": {},
   "outputs": [],
   "source": [
    "vols = pd.read_csv(\"volumes.csv\")\n",
    "vols = vols.drop(\"Unnamed: 0\", axis=1)"
   ]
  },
  {
   "cell_type": "code",
   "execution_count": 3,
   "metadata": {},
   "outputs": [],
   "source": [
    "temps = pd.read_csv(\"temperatures.csv\")\n",
    "temps = temps.drop(\"Unnamed: 0\", axis=1)"
   ]
  },
  {
   "cell_type": "code",
   "execution_count": 4,
   "metadata": {},
   "outputs": [],
   "source": [
    "unitformula = pd.read_csv(\"scaledformulae.csv\")\n",
    "unitformula = unitformula.drop(\"Unnamed: 0\", axis=1)"
   ]
  },
  {
   "cell_type": "markdown",
   "metadata": {},
   "source": [
    "### Setting models"
   ]
  },
  {
   "cell_type": "code",
   "execution_count": 5,
   "metadata": {},
   "outputs": [],
   "source": [
    "from sklearn import linear_model, svm, kernel_ridge\n",
    "regVols = linear_model.Ridge(alpha =100)\n",
    "regAlpha = linear_model.Ridge(alpha =100)\n",
    "#regVols = linear_model.ElasticNet(positive = True)"
   ]
  },
  {
   "cell_type": "markdown",
   "metadata": {},
   "source": [
    "Here the only difference from the previous notebook (\"test regressor linear\") is the modelling technique used. Here it is the Ridge regression, where the reuglarization value alpha is set to 100"
   ]
  },
  {
   "cell_type": "markdown",
   "metadata": {},
   "source": [
    "### Percentage function"
   ]
  },
  {
   "cell_type": "code",
   "execution_count": 7,
   "metadata": {},
   "outputs": [],
   "source": [
    "def percCalc (row):\n",
    "    predictedvolume = row[\"sum\"]\n",
    "    vols = row[\"Volume\"]\n",
    "    percentage = predictedvolume / vols\n",
    "    if (percentage >=0.95) and (percentage <=1.05):\n",
    "        return 1\n",
    "    else:\n",
    "        return 0"
   ]
  },
  {
   "cell_type": "markdown",
   "metadata": {},
   "source": [
    "### Loop algorithm"
   ]
  },
  {
   "cell_type": "code",
   "execution_count": 1,
   "metadata": {
    "scrolled": false
   },
   "outputs": [],
   "source": [
    "alpha = 0.00\n",
    "x2=pd.DataFrame()\n",
    "keeptemps = temps\n",
    "keepvols = vols\n",
    "elements = unitformula.columns.values\n",
    "unitformula[\"Keep\"] = 1\n",
    "dropidx = 1\n",
    "for step in range(1,100):\n",
    "    print step, unitformula[\"Keep\"].sum()\n",
    "    regVols.fit(unitformula[unitformula.Keep == 1], keepvols.div(keeptemps.Temperature*alpha+1, axis=\"index\")) \n",
    "    w = regVols.coef_\n",
    "    for line in zip(elements, w[0]):\n",
    "        x2[line[0]] = unitformula[line[0]].apply(lambda x: x*line[1])\n",
    "    x2[\"sum\"] = x2.sum(axis=1)\n",
    "    if dropidx == 1:\n",
    "        vol2 = keepvols.div(x2[\"sum\"], axis=\"index\") - 1\n",
    "    else:\n",
    "        vol2 = keepvols.div(x2[\"sum\"].drop(x2.index[[dropidx]]), axis=\"index\") - 1\n",
    "    regAlpha.fit(keeptemps, vol2)\n",
    "    alpha = regAlpha.coef_[0][0]\n",
    "    unitformula[\"Keep\"] = pd.concat([x2,vols], axis=1).apply(percCalc, axis=1)\n",
    "    print \"Element average volume (cubic angstroms)\", zip(elements,w[0])\n",
    "    print \"Alpha Value: \", alpha\n",
    "    dropidx = unitformula['Keep'][unitformula[\"Keep\"] != 1].index.tolist()\n",
    "    keeptemps = temps.drop(temps.index[[dropidx]])\n",
    "    keepvols = vols.drop(vols.index[[dropidx]])"
   ]
  },
  {
   "cell_type": "markdown",
   "metadata": {},
   "source": [
    "The main loop is still the same, the loop has currently been altered to a 100, just to check the values."
   ]
  },
  {
   "cell_type": "code",
   "execution_count": null,
   "metadata": {},
   "outputs": [],
   "source": [
    "#x2.loc[x2[\"sum\"] == 0]"
   ]
  }
 ],
 "metadata": {
  "anaconda-cloud": {},
  "kernelspec": {
   "display_name": "Python (2.7)",
   "language": "python",
   "name": "python2.7"
  },
  "language_info": {
   "codemirror_mode": {
    "name": "ipython",
    "version": 2
   },
   "file_extension": ".py",
   "mimetype": "text/x-python",
   "name": "python",
   "nbconvert_exporter": "python",
   "pygments_lexer": "ipython2",
   "version": "2.7.16"
  }
 },
 "nbformat": 4,
 "nbformat_minor": 1
}
