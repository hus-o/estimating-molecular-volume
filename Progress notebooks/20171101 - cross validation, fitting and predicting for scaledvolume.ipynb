{
 "cells": [
  {
   "cell_type": "markdown",
   "metadata": {},
   "source": [
    "### Import libraries and data"
   ]
  },
  {
   "cell_type": "code",
   "execution_count": 1,
   "metadata": {
    "collapsed": true
   },
   "outputs": [],
   "source": [
    "import pandas as pd\n",
    "import csv\n",
    "import re\n",
    "import numpy as np\n",
    "import matplotlib.pyplot as plt\n",
    "import seaborn as sns"
   ]
  },
  {
   "cell_type": "code",
   "execution_count": 18,
   "metadata": {},
   "outputs": [],
   "source": [
    "vols = pd.read_csv(\"volumes300.csv\")\n",
    "vols = vols.drop(\"Unnamed: 0\", axis=1)"
   ]
  },
  {
   "cell_type": "code",
   "execution_count": 19,
   "metadata": {
    "collapsed": true
   },
   "outputs": [],
   "source": [
    "scaledvols = pd.read_csv(\"ScaledVolumes.csv\")\n",
    "scaledvols = scaledvols.drop(\"Unnamed: 0\", axis=1)"
   ]
  },
  {
   "cell_type": "code",
   "execution_count": 6,
   "metadata": {
    "collapsed": true
   },
   "outputs": [],
   "source": [
    "temps = pd.read_csv(\"temperatures300.csv\")\n",
    "temps = temps.drop(\"Unnamed: 0\", axis=1)"
   ]
  },
  {
   "cell_type": "code",
   "execution_count": 7,
   "metadata": {},
   "outputs": [],
   "source": [
    "#headers = [\"Ru\", \"Rb\", \"Rh\", \"Be\", \"Ba\", \"Bi\", \"Br\", \"H\", \"P\", \"Ge\", \"Gd\", \"Ga\", \"Pr\", \"Pu\", \"C\",\\\n",
    "#\"Pd\", \"Cd\", \"Ho\", \"Mg\", \"Mo\", \"Mn\", \"O\", \"S\", \"Eu\", \"Zr\", \"Er\", \"Ni\",\\\n",
    "#\"Na\", \"Nb\", \"Nd\", \"Fe\", \"B\", \"F\", \"Sr\", \"N\", \"Si\", \"Sn\", \"Sm\", \"V\", \"Sc\", \"Sb\", \"Se\", \"Co\",\\\n",
    "#\"Cl\", \"Ca\", \"Ce\", \"Xe\", \"Cs\", \"Cr\", \"Cu\", \"La\", \"Li\", \"Tm\", \"Ti\", \"Te\", \"Tb\", \"Tc\", \"Yb\", \"Dy\",\\\n",
    "#\"I\", \"Y\", \"Ag\", \"Al\", \"As\", \"In\"]\n",
    "\n",
    "headers = [\"H\",\"Li\",\"Be\",\"B\",\"C\",\"N\",\"O\",\"F\",\"Na\",\"Mg\",\"Al\",\"Si\",\"P\",\"S\",\"Cl\",\\\n",
    "\"K\",\"Ca\",\"Sc\",\"Ti\",\"V\",\"Cr\",\"Mn\",\"Fe\",\"Co\",\"Ni\",\"Cu\",\"Zn\",\"Ga\",\\\n",
    "\"Ge\",\"As\",\"Se\",\"Br\",\"Rb\",\"Sr\",\"Y\",\"Zr\",\"Nb\",\"Mo\",\\\n",
    "\"Tc\",\"Ru\",\"Rh\",\"Pd\",\"Ag\",\"Cd\",\"In\",\"Sn\",\\\n",
    "\"Sb\",\"Te\",\"I\",\"Xe\",\"Cs\",\"Ba\",\"La\",\"Ce\",\"Pr\",\\\n",
    "\"Nd\",\"Sm\",\"Eu\",\"Gd\",\"Tb\",\"Dy\",\"Ho\",\"Er\",\\\n",
    "\"Tm\",\"Yb\",\"Lu\",\"Hf\",\"Ta\",\"W\",\"Re\",\"Os\",\"Ir\",\\\n",
    "\"Pt\",\"Au\",\"Hg\",\"Tl\",\"Pb\",\"Bi\",\"Ac\",\"Th\",\"Pa\",\\\n",
    "\"U\",\"Np\",\"Am\"] #hofmann\n",
    "\n",
    "#headers = [\"Ru\", \"Rb\", \"Rh\", \"Be\", \"Ba\", \"Bi\", \"Br\", \"H\", \"P\", \"Ge\", \"Gd\", \"Ga\", \"Pr\", \"Pu\", \"C\",\\\n",
    "#\"Pd\", \"Cd\", \"Ho\", \"Mg\", \"Mo\", \"Mn\", \"O\", \"S\", \"Eu\", \"Zr\", \"Er\", \"Ni\",\\\n",
    "#\"Na\", \"Nb\", \"Nd\", \"Fe\", \"B\", \"F\", \"Sr\", \"N\", \"Si\", \"Sn\", \"Sm\", \"V\", \"Sc\", \"Sb\", \"Se\", \"Co\",\\\n",
    "#\"Cl\", \"Ca\", \"Ce\", \"Xe\", \"Cs\", \"Cr\", \"Cu\"]\n",
    "\n",
    "\n",
    "formula = pd.read_csv(\"formulae.csv\", usecols=headers)\n",
    "#unitformula = unitformula.drop(\"Unnamed: 0\", axis=1)"
   ]
  },
  {
   "cell_type": "markdown",
   "metadata": {},
   "source": [
    "It is important to note that this was just an attempt to perform the calculations in a different manner; where the volumes are scaled to the unit cell volume rather than the formulae."
   ]
  },
  {
   "cell_type": "markdown",
   "metadata": {},
   "source": [
    "### Setting models"
   ]
  },
  {
   "cell_type": "code",
   "execution_count": 15,
   "metadata": {},
   "outputs": [],
   "source": [
    "from sklearn import linear_model, svm, kernel_ridge, ensemble\n",
    "from sklearn.ensemble import RandomForestRegressor\n",
    "from sklearn.metrics import mean_squared_error\n",
    "from sklearn.model_selection import train_test_split\n",
    "from sklearn.model_selection import cross_val_score, cross_val_predict"
   ]
  },
  {
   "cell_type": "markdown",
   "metadata": {},
   "source": [
    "### Calculations & Graphs"
   ]
  },
  {
   "cell_type": "code",
   "execution_count": null,
   "metadata": {
    "collapsed": true
   },
   "outputs": [],
   "source": [
    "estim = [(linear_model.RANSACRegressor(linear_model.LinearRegression())),\\\n",
    "          (linear_model.RANSACRegressor(linear_model.Ridge(alpha=100))), (RandomForestRegressor(n_estimators=100, n_jobs=-1)),\\\n",
    "          (ensemble.GradientBoostingRegressor(n_estimators=100)), (ensemble.ExtraTreesRegressor(n_estimators=100, n_jobs=-1))]\n",
    "\n",
    "for reg in estim:\n",
    "    print \"\\nUsing: \", reg\n",
    "    scores = cross_val_score(reg, formula, scaledvols)\n",
    "    pred = cross_val_predict(reg, formula, scaledvols)\n",
    "    print \"\\nMean: \", scores.mean(), \"STD: \", scores.std()\n",
    "    predDF = pd.DataFrame(pred, columns = [\"Pred Vol\"])\n",
    "    predDF[\"Pred Vol\"].div(scaledvols[\"ScaledVolumes\"]).hist(bins=50)\n",
    "    print predDF[\"Pred Vol\"].div(scaledvols[\"ScaledVolumes\"]).describe()\n",
    "    plt.show() "
   ]
  },
  {
   "cell_type": "markdown",
   "metadata": {},
   "source": [
    "As always the models are scored based on their ability to predict - this time the scaled volumes. Also graphs are made to show the ratio between the predicted volumes and actual ones."
   ]
  },
  {
   "cell_type": "code",
   "execution_count": null,
   "metadata": {
    "collapsed": true
   },
   "outputs": [],
   "source": [
    "estim = [(linear_model.RANSACRegressor(linear_model.LinearRegression())),\\\n",
    "          (linear_model.RANSACRegressor(linear_model.Ridge(alpha=100))), (RandomForestRegressor(n_estimators=100, n_jobs=-1)),\\\n",
    "          (ensemble.GradientBoostingRegressor(n_estimators=100)), (ensemble.ExtraTreesRegressor(n_estimators=100, n_jobs=-1))]\n",
    "X_train, X_test, y_train, y_test = train_test_split(formula, scaledvols, random_state=24)\n",
    "for reg3 in estim:\n",
    "    #X_train, X_test, y_train, y_test = train_test_split(unitformula, vols, random_state = 24)\n",
    "    reg3.fit(X_train, y_train)\n",
    "    pdv = reg3.predict(X_test)\n",
    "    print \"Using: \", reg3\n",
    "    print reg3.score(X_test,y_test)\n",
    "    pdvd = pd.DataFrame(pdv, columns = [\"Pred Vol\"])\n",
    "    ytest = pd.DataFrame(y_test)\n",
    "    ytest = ytest.reset_index(drop=True)\n",
    "    pdvd[\"Pred Vol\"].div(ytest[\"ScaledVolumes\"]).hist(bins=50)\n",
    "    print pdvd[\"Pred Vol\"].div(ytest[\"ScaledVolumes\"]).describe()\n",
    "    plt.show()"
   ]
  },
  {
   "cell_type": "markdown",
   "metadata": {},
   "source": [
    "This is the same idea but TTS is used; just to check if the scores do change - they do but not by much.\n",
    "This did cause shape errors initially"
   ]
  },
  {
   "cell_type": "code",
   "execution_count": null,
   "metadata": {
    "collapsed": true
   },
   "outputs": [],
   "source": [
    "estim = [(linear_model.RANSACRegressor(linear_model.LinearRegression())),\\\n",
    "          (linear_model.RANSACRegressor(linear_model.Ridge(alpha=100))), (RandomForestRegressor(n_estimators=100, n_jobs=-1)),\\\n",
    "          (ensemble.GradientBoostingRegressor(n_estimators=100)), (ensemble.ExtraTreesRegressor(n_estimators=100, n_jobs=-1))]\n",
    "\n",
    "for reg2 in estim:\n",
    "    reg2.fit(formula, scaledvols)\n",
    "    print \"Using \",reg2\n",
    "    print reg2.score(formula,scaledvols)\n",
    "    pred2 = reg2.predict(formula)\n",
    "    pred2DF = pd.DataFrame(pred2, columns = [\"Pred Vol\"])\n",
    "    pred2DF[\"Pred Vol\"].div(scaledvols[\"ScaledVolumes\"]).hist(bins=50)\n",
    "    print pred2DF[\"Pred Vol\"].div(scaledvols[\"ScaledVolumes\"]).describe()\n",
    "    plt.show()"
   ]
  },
  {
   "cell_type": "markdown",
   "metadata": {},
   "source": [
    "This is an attempt without cross validation or TTSp; again just to see if the scores change."
   ]
  }
 ],
 "metadata": {
  "anaconda-cloud": {},
  "kernelspec": {
   "display_name": "Python (2.7)",
   "language": "python",
   "name": "python2.7"
  },
  "language_info": {
   "codemirror_mode": {
    "name": "ipython",
    "version": 2
   },
   "file_extension": ".py",
   "mimetype": "text/x-python",
   "name": "python",
   "nbconvert_exporter": "python",
   "pygments_lexer": "ipython2",
   "version": "2.7.16"
  }
 },
 "nbformat": 4,
 "nbformat_minor": 1
}
