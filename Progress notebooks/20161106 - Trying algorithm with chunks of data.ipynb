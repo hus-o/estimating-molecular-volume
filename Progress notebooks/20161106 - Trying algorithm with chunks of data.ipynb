{
 "cells": [
  {
   "cell_type": "markdown",
   "metadata": {},
   "source": [
    "### Import libraries and data"
   ]
  },
  {
   "cell_type": "code",
   "execution_count": null,
   "metadata": {
    "collapsed": true
   },
   "outputs": [],
   "source": [
    "import pandas as pd\n",
    "import csv\n",
    "import re\n",
    "import numpy as np"
   ]
  },
  {
   "cell_type": "code",
   "execution_count": null,
   "metadata": {},
   "outputs": [],
   "source": [
    "vols = pd.read_csv(\"volumes.csv\")\n",
    "vols = vols.drop(\"Unnamed: 0\", axis=1)"
   ]
  },
  {
   "cell_type": "code",
   "execution_count": null,
   "metadata": {},
   "outputs": [],
   "source": [
    "temps = pd.read_csv(\"temperatures.csv\")\n",
    "temps = temps.drop(\"Unnamed: 0\", axis=1)"
   ]
  },
  {
   "cell_type": "code",
   "execution_count": null,
   "metadata": {},
   "outputs": [],
   "source": [
    "unitformula = pd.read_csv(\"scaledformulae.csv\")\n",
    "unitformula = unitformula.drop(\"Unnamed: 0\", axis=1)"
   ]
  },
  {
   "cell_type": "markdown",
   "metadata": {},
   "source": [
    "### Setting models"
   ]
  },
  {
   "cell_type": "code",
   "execution_count": null,
   "metadata": {},
   "outputs": [],
   "source": [
    "from sklearn import linear_model, svm, kernel_ridge\n",
    "regVols = linear_model.LinearRegression()\n",
    "regAlpha = linear_model.LinearRegression()\n",
    "#regVols = linear_model.ElasticNet(positive = True)"
   ]
  },
  {
   "cell_type": "markdown",
   "metadata": {},
   "source": [
    "### Percentage function"
   ]
  },
  {
   "cell_type": "code",
   "execution_count": null,
   "metadata": {},
   "outputs": [],
   "source": [
    "def percCalc (row):\n",
    "    predictedvolume = row[\"sum\"]\n",
    "    vols = row[\"Volume\"]\n",
    "    percentage = predictedvolume / vols\n",
    "    if (percentage >=0.95) and (percentage <=1.05):\n",
    "        return 1\n",
    "    else:\n",
    "        return 0"
   ]
  },
  {
   "cell_type": "markdown",
   "metadata": {},
   "source": [
    "The function removes any predicted volumes above or below 5% of the actual volume, before the forthcoming iteration"
   ]
  },
  {
   "cell_type": "markdown",
   "metadata": {},
   "source": [
    "### Loop algorithm"
   ]
  },
  {
   "cell_type": "code",
   "execution_count": null,
   "metadata": {},
   "outputs": [],
   "source": [
    "alpha = 0.00\n",
    "elements = unitformula.columns.values\n",
    "unitformula[\"Keep\"] = 1\n",
    "weights = []\n",
    "alphas =[]\n",
    "for chunk in zip(unitformula.groupby(np.arange(len(unitformula)) // 10000),vols.groupby(np.arange(len(vols)) // 10000),temps.groupby(np.arange(len(temps)) // 10000)):\n",
    "    print \"Chunk: \", chunk[0][0]\n",
    "    prevalpha = 1\n",
    "    chunkformula = chunk[0][1]\n",
    "    chunkvol = chunk[1][1]\n",
    "    chunktemp = chunk[2][1]\n",
    "    keepidx = chunkformula.index.tolist()\n",
    "    i = 0\n",
    "    while abs(prevalpha-alpha) > 0.00001 :\n",
    "        print \"Iteration:\", i\n",
    "        regVols.fit(chunkformula[chunkformula.Keep == 1], chunkvol.loc[keepidx].div(chunktemp.loc[keepidx].Temperature*alpha+1, axis=\"index\"))\n",
    "        w = regVols.coef_\n",
    "        x2=pd.DataFrame()\n",
    "        for line in zip(elements, w[0]):\n",
    "            x2[line[0]] = chunk[0][1][line[0]].apply(lambda x: x*line[1])\n",
    "        x2[\"sum\"] = x2.sum(axis=1)\n",
    "        vol2 = chunkvol.loc[keepidx].div(x2[\"sum\"].loc[keepidx], axis=\"index\") - 1\n",
    "        regAlpha.fit(chunktemp.loc[keepidx], vol2)\n",
    "        if i > 0:\n",
    "            prevalpha = alpha\n",
    "            #print \"Previous Alpha: \", prevalpha\n",
    "        alpha = regAlpha.coef_[0][0]\n",
    "        #print \"Alpha: \", alpha\n",
    "        chunkformula[\"Keep\"] = pd.concat([x2,vols], axis=1).apply(percCalc, axis=1)\n",
    "        keepidx = chunkformula.Keep[chunkformula.Keep == 1].index.tolist()\n",
    "        #print \"Element average volume (cubic angstroms)\", zip(elements,w[0])\n",
    "        i +=1\n",
    "        if (len(keepidx) <= 1) or (i > 200):\n",
    "            print \"Failure\"\n",
    "            break\n",
    "    weights.append(w[0])\n",
    "    alphas.append(alpha)"
   ]
  },
  {
   "cell_type": "markdown",
   "metadata": {},
   "source": [
    "Before the loop begins the data is seperated into chunks (size of a 10000), and empty arrays are declared to store required data.\n",
    "\n",
    "The loop is similar to the previous ones, by successive iteration the average element volumes and alpha values are solved - the stopping criteria for the loop currently is where the difference in the absolute alpha values (from one iteration to the next) is below 0.00001.\n",
    "\n",
    "For each iteration the percentage function above is applied and those that abide by the %5 rule are kept for the next iteration (below the entries which are used are those that have \"1\" in the \"keep\" column).\n",
    "\n",
    "As a failsafe if the loop doesn't stop after 200 iterations or if 0 entries are kept for the next iteration, the loop for the current chunk stops, this is noted by the output \"Failure\"."
   ]
  },
  {
   "cell_type": "markdown",
   "metadata": {
    "collapsed": true
   },
   "source": [
    "### Misc. - Printing items to check."
   ]
  },
  {
   "cell_type": "code",
   "execution_count": null,
   "metadata": {},
   "outputs": [],
   "source": [
    "print alphas"
   ]
  },
  {
   "cell_type": "code",
   "execution_count": null,
   "metadata": {},
   "outputs": [],
   "source": [
    "print chunkformula.index.tolist()"
   ]
  },
  {
   "cell_type": "code",
   "execution_count": null,
   "metadata": {},
   "outputs": [],
   "source": [
    "elements = unitformula.columns.values\n",
    "print chunkformula[elements][chunkformula.Keep == 1]"
   ]
  }
 ],
 "metadata": {
  "anaconda-cloud": {},
  "kernelspec": {
   "display_name": "Python (2.7)",
   "language": "python",
   "name": "python2.7"
  },
  "language_info": {
   "codemirror_mode": {
    "name": "ipython",
    "version": 2
   },
   "file_extension": ".py",
   "mimetype": "text/x-python",
   "name": "python",
   "nbconvert_exporter": "python",
   "pygments_lexer": "ipython2",
   "version": "2.7.16"
  }
 },
 "nbformat": 4,
 "nbformat_minor": 1
}
